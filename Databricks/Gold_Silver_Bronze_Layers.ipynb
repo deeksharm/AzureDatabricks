{
 "cells": [
  {
   "cell_type": "markdown",
   "metadata": {
    "application/vnd.databricks.v1+cell": {
     "cellMetadata": {},
     "inputWidgets": {},
     "nuid": "e946de50-cfc8-4b5b-8467-91e1ddc78271",
     "showTitle": false,
     "tableResultSettingsMap": {},
     "title": ""
    }
   },
   "source": [
    "#Bronze Layer\n",
    "1. read data from adls from file & convert into delta table under bronze schema Container = databrickssampledata\n"
   ]
  },
  {
   "cell_type": "code",
   "execution_count": 0,
   "metadata": {
    "application/vnd.databricks.v1+cell": {
     "cellMetadata": {
      "byteLimit": 2048000,
      "rowLimit": 10000
     },
     "inputWidgets": {},
     "nuid": "f6ca03cc-e231-4d3f-a215-8186fef2550a",
     "showTitle": false,
     "tableResultSettingsMap": {},
     "title": ""
    }
   },
   "outputs": [
    {
     "output_type": "execute_result",
     "data": {
      "text/plain": [
       "[FileInfo(path='abfss://kush@adlstrd2025.dfs.core.windows.net/customers.csv', name='customers.csv', size=231, modificationTime=1752569594000),\n",
       " FileInfo(path='abfss://kush@adlstrd2025.dfs.core.windows.net/sales_data.csv', name='sales_data.csv', size=523, modificationTime=1752569594000)]"
      ]
     },
     "execution_count": 6,
     "metadata": {},
     "output_type": "execute_result"
    }
   ],
   "source": [
    "dbutils.fs.ls(\"abfss://kush@adlstrd2025.dfs.core.windows.net/\")"
   ]
  },
  {
   "cell_type": "code",
   "execution_count": 0,
   "metadata": {
    "application/vnd.databricks.v1+cell": {
     "cellMetadata": {
      "byteLimit": 2048000,
      "rowLimit": 10000
     },
     "inputWidgets": {},
     "nuid": "4134bf5e-6f2d-4bc8-bda8-e12b9f543e4f",
     "showTitle": false,
     "tableResultSettingsMap": {},
     "title": ""
    }
   },
   "outputs": [
    {
     "output_type": "display_data",
     "data": {
      "text/html": [
       "<style scoped>\n",
       "  .table-result-container {\n",
       "    max-height: 300px;\n",
       "    overflow: auto;\n",
       "  }\n",
       "  table, th, td {\n",
       "    border: 1px solid black;\n",
       "    border-collapse: collapse;\n",
       "  }\n",
       "  th, td {\n",
       "    padding: 5px;\n",
       "  }\n",
       "  th {\n",
       "    text-align: left;\n",
       "  }\n",
       "</style><div class='table-result-container'><table class='table-result'><thead style='background-color: white'><tr><th>customer_id</th><th>customer_name</th><th>state</th></tr></thead><tbody><tr><td>C101</td><td>Anita</td><td>Delhi</td></tr><tr><td>C102</td><td>Ravi</td><td>Maharashtra</td></tr><tr><td>C103</td><td>Sneha</td><td>Karnataka</td></tr><tr><td>C104</td><td>Amit</td><td>Delhi</td></tr><tr><td>C105</td><td>Neha</td><td>Telangana</td></tr><tr><td>C106</td><td>Kiran</td><td>Gujarat</td></tr><tr><td>C107</td><td>Sana</td><td>Karnataka</td></tr><tr><td>C108</td><td>Vishal</td><td>Delhi</td></tr><tr><td>C109</td><td>Deepa</td><td>Tamil Nadu</td></tr><tr><td>C110</td><td>Rajesh</td><td>Maharashtra</td></tr></tbody></table></div>"
      ]
     },
     "metadata": {
      "application/vnd.databricks.v1+output": {
       "addedWidgets": {},
       "aggData": [],
       "aggError": "",
       "aggOverflow": false,
       "aggSchema": [],
       "aggSeriesLimitReached": false,
       "aggType": "",
       "arguments": {},
       "columnCustomDisplayInfos": {},
       "data": [
        [
         "C101",
         "Anita",
         "Delhi"
        ],
        [
         "C102",
         "Ravi",
         "Maharashtra"
        ],
        [
         "C103",
         "Sneha",
         "Karnataka"
        ],
        [
         "C104",
         "Amit",
         "Delhi"
        ],
        [
         "C105",
         "Neha",
         "Telangana"
        ],
        [
         "C106",
         "Kiran",
         "Gujarat"
        ],
        [
         "C107",
         "Sana",
         "Karnataka"
        ],
        [
         "C108",
         "Vishal",
         "Delhi"
        ],
        [
         "C109",
         "Deepa",
         "Tamil Nadu"
        ],
        [
         "C110",
         "Rajesh",
         "Maharashtra"
        ]
       ],
       "datasetInfos": [],
       "dbfsResultPath": null,
       "isJsonSchema": true,
       "metadata": {},
       "overflow": false,
       "plotOptions": {
        "customPlotOptions": {},
        "displayType": "table",
        "pivotAggregation": null,
        "pivotColumns": null,
        "xColumns": null,
        "yColumns": null
       },
       "removedWidgets": [],
       "schema": [
        {
         "metadata": "{}",
         "name": "customer_id",
         "type": "\"string\""
        },
        {
         "metadata": "{}",
         "name": "customer_name",
         "type": "\"string\""
        },
        {
         "metadata": "{}",
         "name": "state",
         "type": "\"string\""
        }
       ],
       "type": "table"
      }
     },
     "output_type": "display_data"
    }
   ],
   "source": [
    "df1 = spark.read.format(\"csv\").option(\"header\", \"true\").option(\"inferSchema\", \"true\").load(\"abfss://kush@adlstrd2025.dfs.core.windows.net/customers.csv\")\n",
    "\n",
    "df1.display()"
   ]
  },
  {
   "cell_type": "code",
   "execution_count": 0,
   "metadata": {
    "application/vnd.databricks.v1+cell": {
     "cellMetadata": {
      "byteLimit": 2048000,
      "rowLimit": 10000
     },
     "inputWidgets": {},
     "nuid": "4bafed28-53ab-42c8-be42-2596e18f1d7e",
     "showTitle": false,
     "tableResultSettingsMap": {},
     "title": ""
    }
   },
   "outputs": [
    {
     "output_type": "display_data",
     "data": {
      "text/html": [
       "<style scoped>\n",
       "  .table-result-container {\n",
       "    max-height: 300px;\n",
       "    overflow: auto;\n",
       "  }\n",
       "  table, th, td {\n",
       "    border: 1px solid black;\n",
       "    border-collapse: collapse;\n",
       "  }\n",
       "  th, td {\n",
       "    padding: 5px;\n",
       "  }\n",
       "  th {\n",
       "    text-align: left;\n",
       "  }\n",
       "</style><div class='table-result-container'><table class='table-result'><thead style='background-color: white'><tr><th>transaction_id</th><th>customer_id</th><th>product_category</th><th>amount</th><th>transaction_time</th></tr></thead><tbody><tr><td>T1001</td><td>C101</td><td>Electronics</td><td>550.0</td><td>2025-07-14T10:30:00Z</td></tr><tr><td>T1002</td><td>C102</td><td>Fashion</td><td>120.5</td><td>2025-07-14T11:00:00Z</td></tr><tr><td>T1003</td><td>C103</td><td>Fashion</td><td>null</td><td>2025-07-14T11:15:00Z</td></tr><tr><td>T1004</td><td>C104</td><td>Grocery</td><td>75.0</td><td>2025-07-14T12:00:00Z</td></tr><tr><td>T1005</td><td>C105</td><td>Electronics</td><td>300.0</td><td>2025-07-14T12:30:00Z</td></tr><tr><td>T1006</td><td>C106</td><td>Fashion</td><td>150.0</td><td>2025-07-14T13:00:00Z</td></tr><tr><td>T1007</td><td>C107</td><td>Fashion</td><td>190.0</td><td>2025-07-14T13:30:00Z</td></tr><tr><td>T1008</td><td>C108</td><td>Electronics</td><td>700.0</td><td>2025-07-14T14:00:00Z</td></tr><tr><td>T1009</td><td>C109</td><td>Grocery</td><td>55.0</td><td>2025-07-14T14:30:00Z</td></tr><tr><td>T1010</td><td>C110</td><td>Fashion</td><td>200.0</td><td>2025-07-14T15:00:00Z</td></tr></tbody></table></div>"
      ]
     },
     "metadata": {
      "application/vnd.databricks.v1+output": {
       "addedWidgets": {},
       "aggData": [],
       "aggError": "",
       "aggOverflow": false,
       "aggSchema": [],
       "aggSeriesLimitReached": false,
       "aggType": "",
       "arguments": {},
       "columnCustomDisplayInfos": {},
       "data": [
        [
         "T1001",
         "C101",
         "Electronics",
         550.0,
         "2025-07-14T10:30:00Z"
        ],
        [
         "T1002",
         "C102",
         "Fashion",
         120.5,
         "2025-07-14T11:00:00Z"
        ],
        [
         "T1003",
         "C103",
         "Fashion",
         null,
         "2025-07-14T11:15:00Z"
        ],
        [
         "T1004",
         "C104",
         "Grocery",
         75.0,
         "2025-07-14T12:00:00Z"
        ],
        [
         "T1005",
         "C105",
         "Electronics",
         300.0,
         "2025-07-14T12:30:00Z"
        ],
        [
         "T1006",
         "C106",
         "Fashion",
         150.0,
         "2025-07-14T13:00:00Z"
        ],
        [
         "T1007",
         "C107",
         "Fashion",
         190.0,
         "2025-07-14T13:30:00Z"
        ],
        [
         "T1008",
         "C108",
         "Electronics",
         700.0,
         "2025-07-14T14:00:00Z"
        ],
        [
         "T1009",
         "C109",
         "Grocery",
         55.0,
         "2025-07-14T14:30:00Z"
        ],
        [
         "T1010",
         "C110",
         "Fashion",
         200.0,
         "2025-07-14T15:00:00Z"
        ]
       ],
       "datasetInfos": [],
       "dbfsResultPath": null,
       "isJsonSchema": true,
       "metadata": {},
       "overflow": false,
       "plotOptions": {
        "customPlotOptions": {},
        "displayType": "table",
        "pivotAggregation": null,
        "pivotColumns": null,
        "xColumns": null,
        "yColumns": null
       },
       "removedWidgets": [],
       "schema": [
        {
         "metadata": "{}",
         "name": "transaction_id",
         "type": "\"string\""
        },
        {
         "metadata": "{}",
         "name": "customer_id",
         "type": "\"string\""
        },
        {
         "metadata": "{}",
         "name": "product_category",
         "type": "\"string\""
        },
        {
         "metadata": "{}",
         "name": "amount",
         "type": "\"double\""
        },
        {
         "metadata": "{}",
         "name": "transaction_time",
         "type": "\"timestamp\""
        }
       ],
       "type": "table"
      }
     },
     "output_type": "display_data"
    }
   ],
   "source": [
    "df2 = spark.read.format(\"csv\").option(\"header\", \"true\").option(\"inferSchema\", \"true\").load(\"abfss://kush@adlstrd2025.dfs.core.windows.net/sales_data.csv\")\n",
    "\n",
    "df2.display()"
   ]
  },
  {
   "cell_type": "code",
   "execution_count": 0,
   "metadata": {
    "application/vnd.databricks.v1+cell": {
     "cellMetadata": {
      "byteLimit": 2048000,
      "rowLimit": 10000
     },
     "inputWidgets": {},
     "nuid": "c1f89994-2c2b-4e5d-9e84-6f38f5a2dfca",
     "showTitle": false,
     "tableResultSettingsMap": {},
     "title": ""
    }
   },
   "outputs": [],
   "source": [
    "df1.write.mode(\"overwrite\").saveAsTable(\"kush_catalog.bronze.customers\")\n",
    "df2.write.mode(\"overwrite\").saveAsTable(\"kush_catalog.bronze.sales\")"
   ]
  },
  {
   "cell_type": "markdown",
   "metadata": {
    "application/vnd.databricks.v1+cell": {
     "cellMetadata": {},
     "inputWidgets": {},
     "nuid": "f04727bc-504d-4204-8102-b45b9f3049df",
     "showTitle": false,
     "tableResultSettingsMap": {},
     "title": ""
    }
   },
   "source": [
    "#Silver Layer\n",
    "- Read Bronze tables\n",
    "- Clean sales data: remove nulls, cast, timestamp,\n",
    "- Join with customer info\n",
    "- Write to Silver"
   ]
  },
  {
   "cell_type": "code",
   "execution_count": 0,
   "metadata": {
    "application/vnd.databricks.v1+cell": {
     "cellMetadata": {
      "byteLimit": 2048000,
      "rowLimit": 10000
     },
     "inputWidgets": {},
     "nuid": "5c0e756f-d264-426a-8770-8615051d5038",
     "showTitle": false,
     "tableResultSettingsMap": {},
     "title": ""
    }
   },
   "outputs": [
    {
     "output_type": "display_data",
     "data": {
      "text/html": [
       "<style scoped>\n",
       "  .table-result-container {\n",
       "    max-height: 300px;\n",
       "    overflow: auto;\n",
       "  }\n",
       "  table, th, td {\n",
       "    border: 1px solid black;\n",
       "    border-collapse: collapse;\n",
       "  }\n",
       "  th, td {\n",
       "    padding: 5px;\n",
       "  }\n",
       "  th {\n",
       "    text-align: left;\n",
       "  }\n",
       "</style><div class='table-result-container'><table class='table-result'><thead style='background-color: white'><tr><th>customer_id</th><th>customer_name</th><th>state</th></tr></thead><tbody><tr><td>C101</td><td>Anita</td><td>Delhi</td></tr><tr><td>C102</td><td>Ravi</td><td>Maharashtra</td></tr><tr><td>C103</td><td>Sneha</td><td>Karnataka</td></tr><tr><td>C104</td><td>Amit</td><td>Delhi</td></tr><tr><td>C105</td><td>Neha</td><td>Telangana</td></tr><tr><td>C106</td><td>Kiran</td><td>Gujarat</td></tr><tr><td>C107</td><td>Sana</td><td>Karnataka</td></tr><tr><td>C108</td><td>Vishal</td><td>Delhi</td></tr><tr><td>C109</td><td>Deepa</td><td>Tamil Nadu</td></tr><tr><td>C110</td><td>Rajesh</td><td>Maharashtra</td></tr></tbody></table></div>"
      ]
     },
     "metadata": {
      "application/vnd.databricks.v1+output": {
       "addedWidgets": {},
       "aggData": [],
       "aggError": "",
       "aggOverflow": false,
       "aggSchema": [],
       "aggSeriesLimitReached": false,
       "aggType": "",
       "arguments": {},
       "columnCustomDisplayInfos": {},
       "data": [
        [
         "C101",
         "Anita",
         "Delhi"
        ],
        [
         "C102",
         "Ravi",
         "Maharashtra"
        ],
        [
         "C103",
         "Sneha",
         "Karnataka"
        ],
        [
         "C104",
         "Amit",
         "Delhi"
        ],
        [
         "C105",
         "Neha",
         "Telangana"
        ],
        [
         "C106",
         "Kiran",
         "Gujarat"
        ],
        [
         "C107",
         "Sana",
         "Karnataka"
        ],
        [
         "C108",
         "Vishal",
         "Delhi"
        ],
        [
         "C109",
         "Deepa",
         "Tamil Nadu"
        ],
        [
         "C110",
         "Rajesh",
         "Maharashtra"
        ]
       ],
       "datasetInfos": [],
       "dbfsResultPath": null,
       "isJsonSchema": true,
       "metadata": {},
       "overflow": false,
       "plotOptions": {
        "customPlotOptions": {},
        "displayType": "table",
        "pivotAggregation": null,
        "pivotColumns": null,
        "xColumns": null,
        "yColumns": null
       },
       "removedWidgets": [],
       "schema": [
        {
         "metadata": "{}",
         "name": "customer_id",
         "type": "\"string\""
        },
        {
         "metadata": "{}",
         "name": "customer_name",
         "type": "\"string\""
        },
        {
         "metadata": "{}",
         "name": "state",
         "type": "\"string\""
        }
       ],
       "type": "table"
      }
     },
     "output_type": "display_data"
    },
    {
     "output_type": "display_data",
     "data": {
      "text/html": [
       "<style scoped>\n",
       "  .table-result-container {\n",
       "    max-height: 300px;\n",
       "    overflow: auto;\n",
       "  }\n",
       "  table, th, td {\n",
       "    border: 1px solid black;\n",
       "    border-collapse: collapse;\n",
       "  }\n",
       "  th, td {\n",
       "    padding: 5px;\n",
       "  }\n",
       "  th {\n",
       "    text-align: left;\n",
       "  }\n",
       "</style><div class='table-result-container'><table class='table-result'><thead style='background-color: white'><tr><th>transaction_id</th><th>customer_id</th><th>product_category</th><th>amount</th><th>transaction_time</th></tr></thead><tbody><tr><td>T1001</td><td>C101</td><td>Electronics</td><td>550.0</td><td>2025-07-14T10:30:00Z</td></tr><tr><td>T1002</td><td>C102</td><td>Fashion</td><td>120.5</td><td>2025-07-14T11:00:00Z</td></tr><tr><td>T1003</td><td>C103</td><td>Fashion</td><td>null</td><td>2025-07-14T11:15:00Z</td></tr><tr><td>T1004</td><td>C104</td><td>Grocery</td><td>75.0</td><td>2025-07-14T12:00:00Z</td></tr><tr><td>T1005</td><td>C105</td><td>Electronics</td><td>300.0</td><td>2025-07-14T12:30:00Z</td></tr><tr><td>T1006</td><td>C106</td><td>Fashion</td><td>150.0</td><td>2025-07-14T13:00:00Z</td></tr><tr><td>T1007</td><td>C107</td><td>Fashion</td><td>190.0</td><td>2025-07-14T13:30:00Z</td></tr><tr><td>T1008</td><td>C108</td><td>Electronics</td><td>700.0</td><td>2025-07-14T14:00:00Z</td></tr><tr><td>T1009</td><td>C109</td><td>Grocery</td><td>55.0</td><td>2025-07-14T14:30:00Z</td></tr><tr><td>T1010</td><td>C110</td><td>Fashion</td><td>200.0</td><td>2025-07-14T15:00:00Z</td></tr></tbody></table></div>"
      ]
     },
     "metadata": {
      "application/vnd.databricks.v1+output": {
       "addedWidgets": {},
       "aggData": [],
       "aggError": "",
       "aggOverflow": false,
       "aggSchema": [],
       "aggSeriesLimitReached": false,
       "aggType": "",
       "arguments": {},
       "columnCustomDisplayInfos": {},
       "data": [
        [
         "T1001",
         "C101",
         "Electronics",
         550.0,
         "2025-07-14T10:30:00Z"
        ],
        [
         "T1002",
         "C102",
         "Fashion",
         120.5,
         "2025-07-14T11:00:00Z"
        ],
        [
         "T1003",
         "C103",
         "Fashion",
         null,
         "2025-07-14T11:15:00Z"
        ],
        [
         "T1004",
         "C104",
         "Grocery",
         75.0,
         "2025-07-14T12:00:00Z"
        ],
        [
         "T1005",
         "C105",
         "Electronics",
         300.0,
         "2025-07-14T12:30:00Z"
        ],
        [
         "T1006",
         "C106",
         "Fashion",
         150.0,
         "2025-07-14T13:00:00Z"
        ],
        [
         "T1007",
         "C107",
         "Fashion",
         190.0,
         "2025-07-14T13:30:00Z"
        ],
        [
         "T1008",
         "C108",
         "Electronics",
         700.0,
         "2025-07-14T14:00:00Z"
        ],
        [
         "T1009",
         "C109",
         "Grocery",
         55.0,
         "2025-07-14T14:30:00Z"
        ],
        [
         "T1010",
         "C110",
         "Fashion",
         200.0,
         "2025-07-14T15:00:00Z"
        ]
       ],
       "datasetInfos": [],
       "dbfsResultPath": null,
       "isJsonSchema": true,
       "metadata": {},
       "overflow": false,
       "plotOptions": {
        "customPlotOptions": {},
        "displayType": "table",
        "pivotAggregation": null,
        "pivotColumns": null,
        "xColumns": null,
        "yColumns": null
       },
       "removedWidgets": [],
       "schema": [
        {
         "metadata": "{}",
         "name": "transaction_id",
         "type": "\"string\""
        },
        {
         "metadata": "{}",
         "name": "customer_id",
         "type": "\"string\""
        },
        {
         "metadata": "{}",
         "name": "product_category",
         "type": "\"string\""
        },
        {
         "metadata": "{}",
         "name": "amount",
         "type": "\"double\""
        },
        {
         "metadata": "{}",
         "name": "transaction_time",
         "type": "\"timestamp\""
        }
       ],
       "type": "table"
      }
     },
     "output_type": "display_data"
    }
   ],
   "source": [
    "customers_bronze = spark.read.table(\"kush_catalog.bronze.customers\")\n",
    "customers_bronze.display()\n",
    "sales_bronze = spark.read.table(\"kush_catalog.bronze.sales\")\n",
    "sales_bronze.display()"
   ]
  },
  {
   "cell_type": "code",
   "execution_count": 0,
   "metadata": {
    "application/vnd.databricks.v1+cell": {
     "cellMetadata": {
      "byteLimit": 2048000,
      "rowLimit": 10000
     },
     "inputWidgets": {},
     "nuid": "d3bd05ae-da5e-4fd3-b281-7c087a6cee12",
     "showTitle": false,
     "tableResultSettingsMap": {},
     "title": ""
    }
   },
   "outputs": [
    {
     "output_type": "display_data",
     "data": {
      "text/html": [
       "<style scoped>\n",
       "  .table-result-container {\n",
       "    max-height: 300px;\n",
       "    overflow: auto;\n",
       "  }\n",
       "  table, th, td {\n",
       "    border: 1px solid black;\n",
       "    border-collapse: collapse;\n",
       "  }\n",
       "  th, td {\n",
       "    padding: 5px;\n",
       "  }\n",
       "  th {\n",
       "    text-align: left;\n",
       "  }\n",
       "</style><div class='table-result-container'><table class='table-result'><thead style='background-color: white'><tr><th>transaction_id</th><th>customer_id</th><th>product_category</th><th>amount</th><th>transaction_time</th></tr></thead><tbody><tr><td>T1001</td><td>C101</td><td>Electronics</td><td>550.0</td><td>2025-07-14T10:30:00Z</td></tr><tr><td>T1002</td><td>C102</td><td>Fashion</td><td>120.5</td><td>2025-07-14T11:00:00Z</td></tr><tr><td>T1004</td><td>C104</td><td>Grocery</td><td>75.0</td><td>2025-07-14T12:00:00Z</td></tr><tr><td>T1005</td><td>C105</td><td>Electronics</td><td>300.0</td><td>2025-07-14T12:30:00Z</td></tr><tr><td>T1006</td><td>C106</td><td>Fashion</td><td>150.0</td><td>2025-07-14T13:00:00Z</td></tr><tr><td>T1007</td><td>C107</td><td>Fashion</td><td>190.0</td><td>2025-07-14T13:30:00Z</td></tr><tr><td>T1008</td><td>C108</td><td>Electronics</td><td>700.0</td><td>2025-07-14T14:00:00Z</td></tr><tr><td>T1009</td><td>C109</td><td>Grocery</td><td>55.0</td><td>2025-07-14T14:30:00Z</td></tr><tr><td>T1010</td><td>C110</td><td>Fashion</td><td>200.0</td><td>2025-07-14T15:00:00Z</td></tr></tbody></table></div>"
      ]
     },
     "metadata": {
      "application/vnd.databricks.v1+output": {
       "addedWidgets": {},
       "aggData": [],
       "aggError": "",
       "aggOverflow": false,
       "aggSchema": [],
       "aggSeriesLimitReached": false,
       "aggType": "",
       "arguments": {},
       "columnCustomDisplayInfos": {},
       "data": [
        [
         "T1001",
         "C101",
         "Electronics",
         550.0,
         "2025-07-14T10:30:00Z"
        ],
        [
         "T1002",
         "C102",
         "Fashion",
         120.5,
         "2025-07-14T11:00:00Z"
        ],
        [
         "T1004",
         "C104",
         "Grocery",
         75.0,
         "2025-07-14T12:00:00Z"
        ],
        [
         "T1005",
         "C105",
         "Electronics",
         300.0,
         "2025-07-14T12:30:00Z"
        ],
        [
         "T1006",
         "C106",
         "Fashion",
         150.0,
         "2025-07-14T13:00:00Z"
        ],
        [
         "T1007",
         "C107",
         "Fashion",
         190.0,
         "2025-07-14T13:30:00Z"
        ],
        [
         "T1008",
         "C108",
         "Electronics",
         700.0,
         "2025-07-14T14:00:00Z"
        ],
        [
         "T1009",
         "C109",
         "Grocery",
         55.0,
         "2025-07-14T14:30:00Z"
        ],
        [
         "T1010",
         "C110",
         "Fashion",
         200.0,
         "2025-07-14T15:00:00Z"
        ]
       ],
       "datasetInfos": [],
       "dbfsResultPath": null,
       "isJsonSchema": true,
       "metadata": {},
       "overflow": false,
       "plotOptions": {
        "customPlotOptions": {},
        "displayType": "table",
        "pivotAggregation": null,
        "pivotColumns": null,
        "xColumns": null,
        "yColumns": null
       },
       "removedWidgets": [],
       "schema": [
        {
         "metadata": "{}",
         "name": "transaction_id",
         "type": "\"string\""
        },
        {
         "metadata": "{}",
         "name": "customer_id",
         "type": "\"string\""
        },
        {
         "metadata": "{}",
         "name": "product_category",
         "type": "\"string\""
        },
        {
         "metadata": "{}",
         "name": "amount",
         "type": "\"double\""
        },
        {
         "metadata": "{}",
         "name": "transaction_time",
         "type": "\"timestamp\""
        }
       ],
       "type": "table"
      }
     },
     "output_type": "display_data"
    }
   ],
   "source": [
    "sales_bronze_cleaned = sales_bronze.na.drop()\n",
    "sales_bronze_cleaned.display()"
   ]
  },
  {
   "cell_type": "code",
   "execution_count": 0,
   "metadata": {
    "application/vnd.databricks.v1+cell": {
     "cellMetadata": {
      "byteLimit": 2048000,
      "rowLimit": 10000
     },
     "inputWidgets": {},
     "nuid": "5e94413e-5ac0-4b80-b3c2-12a2f3252390",
     "showTitle": false,
     "tableResultSettingsMap": {},
     "title": ""
    }
   },
   "outputs": [
    {
     "output_type": "display_data",
     "data": {
      "text/html": [
       "<style scoped>\n",
       "  .table-result-container {\n",
       "    max-height: 300px;\n",
       "    overflow: auto;\n",
       "  }\n",
       "  table, th, td {\n",
       "    border: 1px solid black;\n",
       "    border-collapse: collapse;\n",
       "  }\n",
       "  th, td {\n",
       "    padding: 5px;\n",
       "  }\n",
       "  th {\n",
       "    text-align: left;\n",
       "  }\n",
       "</style><div class='table-result-container'><table class='table-result'><thead style='background-color: white'><tr><th>customer_id</th><th>transaction_id</th><th>product_category</th><th>amount</th><th>transaction_time</th><th>customer_name</th><th>state</th></tr></thead><tbody><tr><td>C101</td><td>T1001</td><td>Electronics</td><td>550.0</td><td>2025-07-14T10:30:00Z</td><td>Anita</td><td>Delhi</td></tr><tr><td>C102</td><td>T1002</td><td>Fashion</td><td>120.5</td><td>2025-07-14T11:00:00Z</td><td>Ravi</td><td>Maharashtra</td></tr><tr><td>C104</td><td>T1004</td><td>Grocery</td><td>75.0</td><td>2025-07-14T12:00:00Z</td><td>Amit</td><td>Delhi</td></tr><tr><td>C105</td><td>T1005</td><td>Electronics</td><td>300.0</td><td>2025-07-14T12:30:00Z</td><td>Neha</td><td>Telangana</td></tr><tr><td>C106</td><td>T1006</td><td>Fashion</td><td>150.0</td><td>2025-07-14T13:00:00Z</td><td>Kiran</td><td>Gujarat</td></tr><tr><td>C107</td><td>T1007</td><td>Fashion</td><td>190.0</td><td>2025-07-14T13:30:00Z</td><td>Sana</td><td>Karnataka</td></tr><tr><td>C108</td><td>T1008</td><td>Electronics</td><td>700.0</td><td>2025-07-14T14:00:00Z</td><td>Vishal</td><td>Delhi</td></tr><tr><td>C109</td><td>T1009</td><td>Grocery</td><td>55.0</td><td>2025-07-14T14:30:00Z</td><td>Deepa</td><td>Tamil Nadu</td></tr><tr><td>C110</td><td>T1010</td><td>Fashion</td><td>200.0</td><td>2025-07-14T15:00:00Z</td><td>Rajesh</td><td>Maharashtra</td></tr></tbody></table></div>"
      ]
     },
     "metadata": {
      "application/vnd.databricks.v1+output": {
       "addedWidgets": {},
       "aggData": [],
       "aggError": "",
       "aggOverflow": false,
       "aggSchema": [],
       "aggSeriesLimitReached": false,
       "aggType": "",
       "arguments": {},
       "columnCustomDisplayInfos": {},
       "data": [
        [
         "C101",
         "T1001",
         "Electronics",
         550.0,
         "2025-07-14T10:30:00Z",
         "Anita",
         "Delhi"
        ],
        [
         "C102",
         "T1002",
         "Fashion",
         120.5,
         "2025-07-14T11:00:00Z",
         "Ravi",
         "Maharashtra"
        ],
        [
         "C104",
         "T1004",
         "Grocery",
         75.0,
         "2025-07-14T12:00:00Z",
         "Amit",
         "Delhi"
        ],
        [
         "C105",
         "T1005",
         "Electronics",
         300.0,
         "2025-07-14T12:30:00Z",
         "Neha",
         "Telangana"
        ],
        [
         "C106",
         "T1006",
         "Fashion",
         150.0,
         "2025-07-14T13:00:00Z",
         "Kiran",
         "Gujarat"
        ],
        [
         "C107",
         "T1007",
         "Fashion",
         190.0,
         "2025-07-14T13:30:00Z",
         "Sana",
         "Karnataka"
        ],
        [
         "C108",
         "T1008",
         "Electronics",
         700.0,
         "2025-07-14T14:00:00Z",
         "Vishal",
         "Delhi"
        ],
        [
         "C109",
         "T1009",
         "Grocery",
         55.0,
         "2025-07-14T14:30:00Z",
         "Deepa",
         "Tamil Nadu"
        ],
        [
         "C110",
         "T1010",
         "Fashion",
         200.0,
         "2025-07-14T15:00:00Z",
         "Rajesh",
         "Maharashtra"
        ]
       ],
       "datasetInfos": [],
       "dbfsResultPath": null,
       "isJsonSchema": true,
       "metadata": {},
       "overflow": false,
       "plotOptions": {
        "customPlotOptions": {},
        "displayType": "table",
        "pivotAggregation": null,
        "pivotColumns": null,
        "xColumns": null,
        "yColumns": null
       },
       "removedWidgets": [],
       "schema": [
        {
         "metadata": "{}",
         "name": "customer_id",
         "type": "\"string\""
        },
        {
         "metadata": "{}",
         "name": "transaction_id",
         "type": "\"string\""
        },
        {
         "metadata": "{}",
         "name": "product_category",
         "type": "\"string\""
        },
        {
         "metadata": "{}",
         "name": "amount",
         "type": "\"double\""
        },
        {
         "metadata": "{}",
         "name": "transaction_time",
         "type": "\"timestamp\""
        },
        {
         "metadata": "{}",
         "name": "customer_name",
         "type": "\"string\""
        },
        {
         "metadata": "{}",
         "name": "state",
         "type": "\"string\""
        }
       ],
       "type": "table"
      }
     },
     "output_type": "display_data"
    }
   ],
   "source": [
    "sales_customers_joined = sales_bronze_cleaned.join(customers_bronze, on=\"customer_id\", how=\"inner\")\n",
    "sales_customers_joined.display()"
   ]
  },
  {
   "cell_type": "code",
   "execution_count": 0,
   "metadata": {
    "application/vnd.databricks.v1+cell": {
     "cellMetadata": {
      "byteLimit": 2048000,
      "rowLimit": 10000
     },
     "inputWidgets": {},
     "nuid": "c29be191-cef2-4317-8afe-e09863e92d4d",
     "showTitle": false,
     "tableResultSettingsMap": {},
     "title": ""
    }
   },
   "outputs": [],
   "source": [
    "sales_customers_joined.write.mode(\"overwrite\").saveAsTable(\"kush_catalog.silver.sales_customers_joined\")\n"
   ]
  },
  {
   "cell_type": "markdown",
   "metadata": {
    "application/vnd.databricks.v1+cell": {
     "cellMetadata": {},
     "inputWidgets": {},
     "nuid": "7b004f9f-a1e7-43b3-afe0-6bd39c0730bd",
     "showTitle": false,
     "tableResultSettingsMap": {},
     "title": ""
    }
   },
   "source": [
    "#Gold Layer\n",
    "- Read Silver Table\n",
    "- Revenue by state and category\n",
    "- Write to Gold"
   ]
  },
  {
   "cell_type": "code",
   "execution_count": 0,
   "metadata": {
    "application/vnd.databricks.v1+cell": {
     "cellMetadata": {
      "byteLimit": 2048000,
      "rowLimit": 10000
     },
     "inputWidgets": {},
     "nuid": "e0e084c4-5fda-4bf9-8aa0-9cbe7b3534d0",
     "showTitle": false,
     "tableResultSettingsMap": {},
     "title": ""
    }
   },
   "outputs": [
    {
     "output_type": "display_data",
     "data": {
      "text/html": [
       "<style scoped>\n",
       "  .table-result-container {\n",
       "    max-height: 300px;\n",
       "    overflow: auto;\n",
       "  }\n",
       "  table, th, td {\n",
       "    border: 1px solid black;\n",
       "    border-collapse: collapse;\n",
       "  }\n",
       "  th, td {\n",
       "    padding: 5px;\n",
       "  }\n",
       "  th {\n",
       "    text-align: left;\n",
       "  }\n",
       "</style><div class='table-result-container'><table class='table-result'><thead style='background-color: white'><tr><th>customer_id</th><th>transaction_id</th><th>product_category</th><th>amount</th><th>transaction_time</th><th>customer_name</th><th>state</th></tr></thead><tbody><tr><td>C101</td><td>T1001</td><td>Electronics</td><td>550.0</td><td>2025-07-14T10:30:00Z</td><td>Anita</td><td>Delhi</td></tr><tr><td>C102</td><td>T1002</td><td>Fashion</td><td>120.5</td><td>2025-07-14T11:00:00Z</td><td>Ravi</td><td>Maharashtra</td></tr><tr><td>C104</td><td>T1004</td><td>Grocery</td><td>75.0</td><td>2025-07-14T12:00:00Z</td><td>Amit</td><td>Delhi</td></tr><tr><td>C105</td><td>T1005</td><td>Electronics</td><td>300.0</td><td>2025-07-14T12:30:00Z</td><td>Neha</td><td>Telangana</td></tr><tr><td>C106</td><td>T1006</td><td>Fashion</td><td>150.0</td><td>2025-07-14T13:00:00Z</td><td>Kiran</td><td>Gujarat</td></tr><tr><td>C107</td><td>T1007</td><td>Fashion</td><td>190.0</td><td>2025-07-14T13:30:00Z</td><td>Sana</td><td>Karnataka</td></tr><tr><td>C108</td><td>T1008</td><td>Electronics</td><td>700.0</td><td>2025-07-14T14:00:00Z</td><td>Vishal</td><td>Delhi</td></tr><tr><td>C109</td><td>T1009</td><td>Grocery</td><td>55.0</td><td>2025-07-14T14:30:00Z</td><td>Deepa</td><td>Tamil Nadu</td></tr><tr><td>C110</td><td>T1010</td><td>Fashion</td><td>200.0</td><td>2025-07-14T15:00:00Z</td><td>Rajesh</td><td>Maharashtra</td></tr></tbody></table></div>"
      ]
     },
     "metadata": {
      "application/vnd.databricks.v1+output": {
       "addedWidgets": {},
       "aggData": [],
       "aggError": "",
       "aggOverflow": false,
       "aggSchema": [],
       "aggSeriesLimitReached": false,
       "aggType": "",
       "arguments": {},
       "columnCustomDisplayInfos": {},
       "data": [
        [
         "C101",
         "T1001",
         "Electronics",
         550.0,
         "2025-07-14T10:30:00Z",
         "Anita",
         "Delhi"
        ],
        [
         "C102",
         "T1002",
         "Fashion",
         120.5,
         "2025-07-14T11:00:00Z",
         "Ravi",
         "Maharashtra"
        ],
        [
         "C104",
         "T1004",
         "Grocery",
         75.0,
         "2025-07-14T12:00:00Z",
         "Amit",
         "Delhi"
        ],
        [
         "C105",
         "T1005",
         "Electronics",
         300.0,
         "2025-07-14T12:30:00Z",
         "Neha",
         "Telangana"
        ],
        [
         "C106",
         "T1006",
         "Fashion",
         150.0,
         "2025-07-14T13:00:00Z",
         "Kiran",
         "Gujarat"
        ],
        [
         "C107",
         "T1007",
         "Fashion",
         190.0,
         "2025-07-14T13:30:00Z",
         "Sana",
         "Karnataka"
        ],
        [
         "C108",
         "T1008",
         "Electronics",
         700.0,
         "2025-07-14T14:00:00Z",
         "Vishal",
         "Delhi"
        ],
        [
         "C109",
         "T1009",
         "Grocery",
         55.0,
         "2025-07-14T14:30:00Z",
         "Deepa",
         "Tamil Nadu"
        ],
        [
         "C110",
         "T1010",
         "Fashion",
         200.0,
         "2025-07-14T15:00:00Z",
         "Rajesh",
         "Maharashtra"
        ]
       ],
       "datasetInfos": [],
       "dbfsResultPath": null,
       "isJsonSchema": true,
       "metadata": {},
       "overflow": false,
       "plotOptions": {
        "customPlotOptions": {},
        "displayType": "table",
        "pivotAggregation": null,
        "pivotColumns": null,
        "xColumns": null,
        "yColumns": null
       },
       "removedWidgets": [],
       "schema": [
        {
         "metadata": "{}",
         "name": "customer_id",
         "type": "\"string\""
        },
        {
         "metadata": "{}",
         "name": "transaction_id",
         "type": "\"string\""
        },
        {
         "metadata": "{}",
         "name": "product_category",
         "type": "\"string\""
        },
        {
         "metadata": "{}",
         "name": "amount",
         "type": "\"double\""
        },
        {
         "metadata": "{}",
         "name": "transaction_time",
         "type": "\"timestamp\""
        },
        {
         "metadata": "{}",
         "name": "customer_name",
         "type": "\"string\""
        },
        {
         "metadata": "{}",
         "name": "state",
         "type": "\"string\""
        }
       ],
       "type": "table"
      }
     },
     "output_type": "display_data"
    }
   ],
   "source": [
    "analysis_table = spark.read.table(\"kush_catalog.silver.sales_customers_joined\")\n",
    "analysis_table.display()\n"
   ]
  },
  {
   "cell_type": "code",
   "execution_count": 0,
   "metadata": {
    "application/vnd.databricks.v1+cell": {
     "cellMetadata": {
      "byteLimit": 2048000,
      "rowLimit": 10000
     },
     "inputWidgets": {},
     "nuid": "2d798b30-60f4-4595-9c63-54312d624665",
     "showTitle": false,
     "tableResultSettingsMap": {
      "0": {
       "dataGridStateBlob": "{\"version\":1,\"tableState\":{\"columnPinning\":{\"left\":[\"#row_number#\"],\"right\":[]},\"columnSizing\":{},\"columnVisibility\":{}},\"settings\":{\"columns\":{}},\"syncTimestamp\":1752604313374}",
       "filterBlob": null,
       "queryPlanFiltersBlob": null,
       "tableResultIndex": 0
      }
     },
     "title": ""
    }
   },
   "outputs": [
    {
     "output_type": "display_data",
     "data": {
      "text/html": [
       "<style scoped>\n",
       "  .table-result-container {\n",
       "    max-height: 300px;\n",
       "    overflow: auto;\n",
       "  }\n",
       "  table, th, td {\n",
       "    border: 1px solid black;\n",
       "    border-collapse: collapse;\n",
       "  }\n",
       "  th, td {\n",
       "    padding: 5px;\n",
       "  }\n",
       "  th {\n",
       "    text-align: left;\n",
       "  }\n",
       "</style><div class='table-result-container'><table class='table-result'><thead style='background-color: white'><tr><th>state</th><th>revenue</th></tr></thead><tbody><tr><td>Karnataka</td><td>190.0</td></tr><tr><td>Tamil Nadu</td><td>55.0</td></tr><tr><td>Gujarat</td><td>150.0</td></tr><tr><td>Delhi</td><td>1325.0</td></tr><tr><td>Maharashtra</td><td>320.5</td></tr><tr><td>Telangana</td><td>300.0</td></tr></tbody></table></div>"
      ]
     },
     "metadata": {
      "application/vnd.databricks.v1+output": {
       "addedWidgets": {},
       "aggData": [],
       "aggError": "",
       "aggOverflow": false,
       "aggSchema": [],
       "aggSeriesLimitReached": false,
       "aggType": "",
       "arguments": {},
       "columnCustomDisplayInfos": {},
       "data": [
        [
         "Karnataka",
         190.0
        ],
        [
         "Tamil Nadu",
         55.0
        ],
        [
         "Gujarat",
         150.0
        ],
        [
         "Delhi",
         1325.0
        ],
        [
         "Maharashtra",
         320.5
        ],
        [
         "Telangana",
         300.0
        ]
       ],
       "datasetInfos": [],
       "dbfsResultPath": null,
       "isJsonSchema": true,
       "metadata": {},
       "overflow": false,
       "plotOptions": {
        "customPlotOptions": {},
        "displayType": "table",
        "pivotAggregation": null,
        "pivotColumns": null,
        "xColumns": null,
        "yColumns": null
       },
       "removedWidgets": [],
       "schema": [
        {
         "metadata": "{}",
         "name": "state",
         "type": "\"string\""
        },
        {
         "metadata": "{}",
         "name": "revenue",
         "type": "\"double\""
        }
       ],
       "type": "table"
      }
     },
     "output_type": "display_data"
    }
   ],
   "source": [
    "revenue_by_state = analysis_table.groupBy(\"state\").sum(\"amount\")\n",
    "revenue_by_state = revenue_by_state.withColumnRenamed(\"sum(amount)\", \"revenue\")\n",
    "revenue_by_state.display()\n"
   ]
  },
  {
   "cell_type": "code",
   "execution_count": 0,
   "metadata": {
    "application/vnd.databricks.v1+cell": {
     "cellMetadata": {
      "byteLimit": 2048000,
      "rowLimit": 10000
     },
     "inputWidgets": {},
     "nuid": "1971f8de-24e1-4622-a85f-034cf580bae3",
     "showTitle": false,
     "tableResultSettingsMap": {
      "0": {
       "dataGridStateBlob": "{\"version\":1,\"tableState\":{\"columnPinning\":{\"left\":[\"#row_number#\"],\"right\":[]},\"columnSizing\":{},\"columnVisibility\":{}},\"settings\":{\"columns\":{}},\"syncTimestamp\":1752604320348}",
       "filterBlob": null,
       "queryPlanFiltersBlob": null,
       "tableResultIndex": 0
      }
     },
     "title": ""
    }
   },
   "outputs": [
    {
     "output_type": "display_data",
     "data": {
      "text/html": [
       "<style scoped>\n",
       "  .table-result-container {\n",
       "    max-height: 300px;\n",
       "    overflow: auto;\n",
       "  }\n",
       "  table, th, td {\n",
       "    border: 1px solid black;\n",
       "    border-collapse: collapse;\n",
       "  }\n",
       "  th, td {\n",
       "    padding: 5px;\n",
       "  }\n",
       "  th {\n",
       "    text-align: left;\n",
       "  }\n",
       "</style><div class='table-result-container'><table class='table-result'><thead style='background-color: white'><tr><th>product_category</th><th>revenue</th></tr></thead><tbody><tr><td>Fashion</td><td>660.5</td></tr><tr><td>Grocery</td><td>130.0</td></tr><tr><td>Electronics</td><td>1550.0</td></tr></tbody></table></div>"
      ]
     },
     "metadata": {
      "application/vnd.databricks.v1+output": {
       "addedWidgets": {},
       "aggData": [],
       "aggError": "",
       "aggOverflow": false,
       "aggSchema": [],
       "aggSeriesLimitReached": false,
       "aggType": "",
       "arguments": {},
       "columnCustomDisplayInfos": {},
       "data": [
        [
         "Fashion",
         660.5
        ],
        [
         "Grocery",
         130.0
        ],
        [
         "Electronics",
         1550.0
        ]
       ],
       "datasetInfos": [],
       "dbfsResultPath": null,
       "isJsonSchema": true,
       "metadata": {},
       "overflow": false,
       "plotOptions": {
        "customPlotOptions": {},
        "displayType": "table",
        "pivotAggregation": null,
        "pivotColumns": null,
        "xColumns": null,
        "yColumns": null
       },
       "removedWidgets": [],
       "schema": [
        {
         "metadata": "{}",
         "name": "product_category",
         "type": "\"string\""
        },
        {
         "metadata": "{}",
         "name": "revenue",
         "type": "\"double\""
        }
       ],
       "type": "table"
      }
     },
     "output_type": "display_data"
    }
   ],
   "source": [
    "revenue_by_prodcat = analysis_table.groupBy(\"product_category\").sum(\"amount\")\n",
    "revenue_by_prodcat = revenue_by_prodcat.withColumnRenamed(\"sum(amount)\", \"revenue\")\n",
    "revenue_by_prodcat.display() \n"
   ]
  },
  {
   "cell_type": "code",
   "execution_count": 0,
   "metadata": {
    "application/vnd.databricks.v1+cell": {
     "cellMetadata": {
      "byteLimit": 2048000,
      "rowLimit": 10000
     },
     "inputWidgets": {},
     "nuid": "af03eb92-d2ca-4ca0-a606-d7b9ee34ceab",
     "showTitle": false,
     "tableResultSettingsMap": {},
     "title": ""
    }
   },
   "outputs": [],
   "source": [
    "revenue_by_state.write.mode(\"overwrite\").saveAsTable(\"kush_catalog.gold.revenue_by_state\")\n",
    "revenue_by_prodcat.write.mode(\"overwrite\").saveAsTable(\"kush_catalog.gold.revenue_by_prodcat\")"
   ]
  }
 ],
 "metadata": {
  "application/vnd.databricks.v1+notebook": {
   "computePreferences": null,
   "dashboards": [],
   "environmentMetadata": {
    "base_environment": "",
    "environment_version": "2"
   },
   "inputWidgetPreferences": null,
   "language": "python",
   "notebookMetadata": {
    "pythonIndentUnit": 4
   },
   "notebookName": "Gold_Silver_Bronze_Layers",
   "widgets": {}
  },
  "language_info": {
   "name": "python"
  }
 },
 "nbformat": 4,
 "nbformat_minor": 0
}