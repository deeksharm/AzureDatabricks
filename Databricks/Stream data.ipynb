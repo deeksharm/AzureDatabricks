{
 "cells": [
  {
   "cell_type": "markdown",
   "metadata": {
    "application/vnd.databricks.v1+cell": {
     "cellMetadata": {},
     "inputWidgets": {},
     "nuid": "46f8c193-4bb0-4f86-98a8-b4246605e667",
     "showTitle": false,
     "tableResultSettingsMap": {},
     "title": ""
    }
   },
   "source": [
    "\n",
    "**Stream data**\n",
    "\n",
    "Kafka  --> databricks (spark.read.)\n",
    "\n",
    "Eventhub \n",
    "pubSub\n",
    "----------------------\n",
    "-  databricks read\n",
    "-  spark.readstream\n",
    "-  spark.readstream.(cloudfiles).(cloudfileformat, json), \n"
   ]
  },
  {
   "cell_type": "code",
   "execution_count": 0,
   "metadata": {
    "application/vnd.databricks.v1+cell": {
     "cellMetadata": {
      "byteLimit": 2048000,
      "rowLimit": 10000
     },
     "inputWidgets": {},
     "nuid": "8683761c-f425-4102-9ca0-4af5dda6fd4c",
     "showTitle": true,
     "tableResultSettingsMap": {},
     "title": "Generating Stream records"
    }
   },
   "outputs": [
    {
     "output_type": "stream",
     "name": "stdout",
     "output_type": "stream",
     "text": [
      "Wrote 71 bytes.\nWrote 70 bytes.\nWrote 69 bytes.\nWrote 71 bytes.\nWrote 71 bytes.\nWrote 70 bytes.\nWrote 69 bytes.\nWrote 70 bytes.\nWrote 70 bytes.\nWrote 71 bytes.\nWrote 70 bytes.\nWrote 71 bytes.\nWrote 71 bytes.\nWrote 71 bytes.\nWrote 71 bytes.\nWrote 71 bytes.\nWrote 70 bytes.\nWrote 71 bytes.\nWrote 71 bytes.\nWrote 71 bytes.\nWrote 71 bytes.\nWrote 71 bytes.\nWrote 70 bytes.\nWrote 71 bytes.\nWrote 71 bytes.\nWrote 71 bytes.\nWrote 69 bytes.\nWrote 67 bytes.\nWrote 70 bytes.\nWrote 71 bytes.\nWrote 71 bytes.\nWrote 71 bytes.\nWrote 71 bytes.\nWrote 71 bytes.\nWrote 71 bytes.\nWrote 71 bytes.\nWrote 69 bytes.\nWrote 71 bytes.\nWrote 70 bytes.\nWrote 71 bytes.\nWrote 70 bytes.\nWrote 70 bytes.\nWrote 71 bytes.\nWrote 71 bytes.\nWrote 70 bytes.\nWrote 69 bytes.\nWrote 69 bytes.\nWrote 71 bytes.\nWrote 71 bytes.\nWrote 69 bytes.\nWrote 71 bytes.\nWrote 69 bytes.\nWrote 71 bytes.\nWrote 71 bytes.\nWrote 71 bytes.\nWrote 70 bytes.\nWrote 70 bytes.\nWrote 69 bytes.\nWrote 69 bytes.\nWrote 69 bytes.\nWrote 70 bytes.\nWrote 68 bytes.\nWrote 71 bytes.\nWrote 71 bytes.\nWrote 69 bytes.\nWrote 71 bytes.\nWrote 71 bytes.\nWrote 71 bytes.\nWrote 70 bytes.\nWrote 69 bytes.\nWrote 70 bytes.\nWrote 69 bytes.\nWrote 69 bytes.\nWrote 68 bytes.\nWrote 71 bytes.\nWrote 69 bytes.\nWrote 70 bytes.\nWrote 69 bytes.\nWrote 71 bytes.\nWrote 70 bytes.\nWrote 69 bytes.\nWrote 70 bytes.\nWrote 70 bytes.\nWrote 71 bytes.\nWrote 71 bytes.\nWrote 71 bytes.\nWrote 68 bytes.\nWrote 71 bytes.\nWrote 68 bytes.\nWrote 70 bytes.\nWrote 70 bytes.\nWrote 71 bytes.\nWrote 69 bytes.\nWrote 71 bytes.\nWrote 71 bytes.\nWrote 69 bytes.\nWrote 68 bytes.\nWrote 71 bytes.\nWrote 72 bytes.\nWrote 70 bytes.\n"
     ]
    }
   ],
   "source": [
    "import time\n",
    "import json\n",
    "import random\n",
    "from pyspark.sql import Row\n",
    "\n",
    "# Function to generate random JSON data\n",
    "def generate_data():\n",
    "    return json.dumps({\n",
    "        \"id\": random.randint(1, 100),\n",
    "        \"name\": random.choice([\"Alice\", \"Bob\", \"Carol\", \"David\"]),\n",
    "        \"age\": random.randint(20, 50),\n",
    "        \"timestamp\": time.time()\n",
    "    })\n",
    "\n",
    "# Directory to save the streaming data\n",
    "output_dir = \"abfss://raw@adlsfabric2025ext.dfs.core.windows.net/json/data\"\n",
    "\n",
    "# Generate and write data to the directory\n",
    "for _ in range(100):\n",
    "    data = generate_data()\n",
    "    dbutils.fs.put(f\"{output_dir}/data_{int(time.time() * 1000)}.json\", data, True)\n",
    "    time.sleep(1)  # Sleep for 1 second to simulate real-time data generation"
   ]
  },
  {
   "cell_type": "code",
   "execution_count": 0,
   "metadata": {
    "application/vnd.databricks.v1+cell": {
     "cellMetadata": {
      "byteLimit": 2048000,
      "rowLimit": 10000
     },
     "inputWidgets": {},
     "nuid": "fec07f54-7209-44b1-8a43-f4746bcea84c",
     "showTitle": true,
     "tableResultSettingsMap": {},
     "title": "Reading stream data without autoloader"
    }
   },
   "outputs": [
    {
     "output_type": "display_data",
     "data": {
      "text/html": [
       "<style scoped>\n",
       "  .table-result-container {\n",
       "    max-height: 300px;\n",
       "    overflow: auto;\n",
       "  }\n",
       "  table, th, td {\n",
       "    border: 1px solid black;\n",
       "    border-collapse: collapse;\n",
       "  }\n",
       "  th, td {\n",
       "    padding: 5px;\n",
       "  }\n",
       "  th {\n",
       "    text-align: left;\n",
       "  }\n",
       "</style><div class='table-result-container'><table class='table-result'><thead style='background-color: white'><tr><th>id</th><th>name</th><th>age</th><th>timestamp</th></tr></thead><tbody><tr><td>94</td><td>Carol</td><td>35</td><td>1.7528123286511316E9</td></tr><tr><td>79</td><td>Alice</td><td>45</td><td>1.7528123424334478E9</td></tr><tr><td>24</td><td>Carol</td><td>44</td><td>1.7528123455000832E9</td></tr><tr><td>52</td><td>Alice</td><td>31</td><td>1.7528123528513591E9</td></tr><tr><td>32</td><td>Carol</td><td>32</td><td>1.7528123579687028E9</td></tr><tr><td>57</td><td>David</td><td>45</td><td>1.7528123593403103E9</td></tr><tr><td>98</td><td>Carol</td><td>46</td><td>1.7528123668909612E9</td></tr><tr><td>58</td><td>Alice</td><td>44</td><td>1.7528123770978403E9</td></tr><tr><td>85</td><td>Alice</td><td>41</td><td>1.7528123846556556E9</td></tr><tr><td>29</td><td>Alice</td><td>35</td><td>1.7528123884348967E9</td></tr><tr><td>97</td><td>Alice</td><td>49</td><td>1.7528123896819673E9</td></tr><tr><td>66</td><td>David</td><td>50</td><td>1.7528123909646554E9</td></tr><tr><td>58</td><td>Alice</td><td>33</td><td>1.7528123960624712E9</td></tr><tr><td>76</td><td>Alice</td><td>48</td><td>1.7528123986056097E9</td></tr><tr><td>11</td><td>David</td><td>32</td><td>1.7528124012651703E9</td></tr><tr><td>46</td><td>Alice</td><td>35</td><td>1.7528124024950364E9</td></tr><tr><td>39</td><td>David</td><td>45</td><td>1.7528124051239464E9</td></tr><tr><td>30</td><td>David</td><td>42</td><td>1.7528124088825095E9</td></tr><tr><td>37</td><td>Carol</td><td>33</td><td>1.7528124180863068E9</td></tr><tr><td>26</td><td>David</td><td>32</td><td>1.7528124194194748E9</td></tr><tr><td>36</td><td>Alice</td><td>43</td><td>1.7528124232344842E9</td></tr><tr><td>13</td><td>Alice</td><td>50</td><td>1.7528124246140847E9</td></tr><tr><td>63</td><td>Carol</td><td>46</td><td>1.7528124266500576E9</td></tr><tr><td>66</td><td>David</td><td>40</td><td>1.7528124304832764E9</td></tr><tr><td>92</td><td>David</td><td>34</td><td>1.7528124329598968E9</td></tr><tr><td>88</td><td>Alice</td><td>31</td><td>1.7528124342655272E9</td></tr><tr><td>39</td><td>Alice</td><td>49</td><td>1.7528124355532582E9</td></tr><tr><td>44</td><td>David</td><td>34</td><td>1.7528124445193784E9</td></tr><tr><td>18</td><td>Alice</td><td>47</td><td>1.7528124472395864E9</td></tr><tr><td>34</td><td>Carol</td><td>39</td><td>1.7528124497928035E9</td></tr><tr><td>96</td><td>Carol</td><td>32</td><td>1.7528124510492952E9</td></tr><tr><td>57</td><td>David</td><td>50</td><td>1.7528124535107605E9</td></tr><tr><td>44</td><td>Alice</td><td>33</td><td>1.7528124547516394E9</td></tr><tr><td>11</td><td>Alice</td><td>42</td><td>1.7528124560450063E9</td></tr><tr><td>14</td><td>Alice</td><td>34</td><td>1.7528124573811703E9</td></tr><tr><td>98</td><td>David</td><td>34</td><td>1.7528124598808265E9</td></tr><tr><td>36</td><td>Carol</td><td>31</td><td>1.7528124611565785E9</td></tr><tr><td>85</td><td>Carol</td><td>42</td><td>1.7528124624051383E9</td></tr><tr><td>55</td><td>Alice</td><td>48</td><td>1.7528124649454203E9</td></tr><tr><td>86</td><td>Carol</td><td>45</td><td>1.7528124687488308E9</td></tr><tr><td>28</td><td>David</td><td>36</td><td>1.752812348918512E9</td></tr><tr><td>3</td><td>Carol</td><td>35</td><td>1.7528123502771904E9</td></tr><tr><td>17</td><td>Alice</td><td>45</td><td>1.752812354160852E9</td></tr><tr><td>51</td><td>David</td><td>32</td><td>1.752812355466904E9</td></tr><tr><td>11</td><td>David</td><td>34</td><td>1.752812365656075E9</td></tr><tr><td>26</td><td>Alice</td><td>44</td><td>1.752812383396349E9</td></tr><tr><td>5</td><td>David</td><td>42</td><td>1.7528123998769166E9</td></tr><tr><td>93</td><td>Alice</td><td>47</td><td>1.752812406375488E9</td></tr><tr><td>43</td><td>David</td><td>32</td><td>1.752812415159838E9</td></tr><tr><td>12</td><td>Carol</td><td>31</td><td>1.752812416731964E9</td></tr><tr><td>36</td><td>Carol</td><td>47</td><td>1.752812429229502E9</td></tr><tr><td>55</td><td>Carol</td><td>33</td><td>1.752812445752993E9</td></tr><tr><td>28</td><td>Alice</td><td>50</td><td>1.752812452287496E9</td></tr><tr><td>36</td><td>Carol</td><td>33</td><td>1.752812463643926E9</td></tr><tr><td>62</td><td>David</td><td>39</td><td>1.752812470047601E9</td></tr><tr><td>89</td><td>David</td><td>47</td><td>1.75281236308046E9</td></tr><tr><td>36</td><td>Bob</td><td>43</td><td>1.7528123644146245E9</td></tr><tr><td>48</td><td>Bob</td><td>33</td><td>1.7528123795638878E9</td></tr><tr><td>57</td><td>Bob</td><td>49</td><td>1.7528123859492505E9</td></tr><tr><td>12</td><td>Bob</td><td>44</td><td>1.7528123871949232E9</td></tr><tr><td>90</td><td>Bob</td><td>45</td><td>1.7528124038549063E9</td></tr><tr><td>56</td><td>Bob</td><td>37</td><td>1.7528124113654304E9</td></tr><tr><td>41</td><td>Bob</td><td>31</td><td>1.7528124206537695E9</td></tr><tr><td>98</td><td>Bob</td><td>49</td><td>1.752812368176509E9</td></tr><tr><td>91</td><td>Bob</td><td>40</td><td>1.752812370721767E9</td></tr><tr><td>4</td><td>Bob</td><td>41</td><td>1.7528124278911157E9</td></tr><tr><td>36</td><td>Bob</td><td>47</td><td>1.75281241262228E9</td></tr></tbody></table></div>"
      ]
     },
     "metadata": {
      "application/vnd.databricks.v1+output": {
       "addedWidgets": {},
       "aggData": [],
       "aggError": "",
       "aggOverflow": false,
       "aggSchema": [],
       "aggSeriesLimitReached": false,
       "aggType": "",
       "arguments": {},
       "columnCustomDisplayInfos": {},
       "data": [
        [
         94,
         "Carol",
         35,
         1.7528123286511316E9
        ],
        [
         79,
         "Alice",
         45,
         1.7528123424334478E9
        ],
        [
         24,
         "Carol",
         44,
         1.7528123455000832E9
        ],
        [
         52,
         "Alice",
         31,
         1.7528123528513591E9
        ],
        [
         32,
         "Carol",
         32,
         1.7528123579687028E9
        ],
        [
         57,
         "David",
         45,
         1.7528123593403103E9
        ],
        [
         98,
         "Carol",
         46,
         1.7528123668909612E9
        ],
        [
         58,
         "Alice",
         44,
         1.7528123770978403E9
        ],
        [
         85,
         "Alice",
         41,
         1.7528123846556556E9
        ],
        [
         29,
         "Alice",
         35,
         1.7528123884348967E9
        ],
        [
         97,
         "Alice",
         49,
         1.7528123896819673E9
        ],
        [
         66,
         "David",
         50,
         1.7528123909646554E9
        ],
        [
         58,
         "Alice",
         33,
         1.7528123960624712E9
        ],
        [
         76,
         "Alice",
         48,
         1.7528123986056097E9
        ],
        [
         11,
         "David",
         32,
         1.7528124012651703E9
        ],
        [
         46,
         "Alice",
         35,
         1.7528124024950364E9
        ],
        [
         39,
         "David",
         45,
         1.7528124051239464E9
        ],
        [
         30,
         "David",
         42,
         1.7528124088825095E9
        ],
        [
         37,
         "Carol",
         33,
         1.7528124180863068E9
        ],
        [
         26,
         "David",
         32,
         1.7528124194194748E9
        ],
        [
         36,
         "Alice",
         43,
         1.7528124232344842E9
        ],
        [
         13,
         "Alice",
         50,
         1.7528124246140847E9
        ],
        [
         63,
         "Carol",
         46,
         1.7528124266500576E9
        ],
        [
         66,
         "David",
         40,
         1.7528124304832764E9
        ],
        [
         92,
         "David",
         34,
         1.7528124329598968E9
        ],
        [
         88,
         "Alice",
         31,
         1.7528124342655272E9
        ],
        [
         39,
         "Alice",
         49,
         1.7528124355532582E9
        ],
        [
         44,
         "David",
         34,
         1.7528124445193784E9
        ],
        [
         18,
         "Alice",
         47,
         1.7528124472395864E9
        ],
        [
         34,
         "Carol",
         39,
         1.7528124497928035E9
        ],
        [
         96,
         "Carol",
         32,
         1.7528124510492952E9
        ],
        [
         57,
         "David",
         50,
         1.7528124535107605E9
        ],
        [
         44,
         "Alice",
         33,
         1.7528124547516394E9
        ],
        [
         11,
         "Alice",
         42,
         1.7528124560450063E9
        ],
        [
         14,
         "Alice",
         34,
         1.7528124573811703E9
        ],
        [
         98,
         "David",
         34,
         1.7528124598808265E9
        ],
        [
         36,
         "Carol",
         31,
         1.7528124611565785E9
        ],
        [
         85,
         "Carol",
         42,
         1.7528124624051383E9
        ],
        [
         55,
         "Alice",
         48,
         1.7528124649454203E9
        ],
        [
         86,
         "Carol",
         45,
         1.7528124687488308E9
        ],
        [
         28,
         "David",
         36,
         1.752812348918512E9
        ],
        [
         3,
         "Carol",
         35,
         1.7528123502771904E9
        ],
        [
         17,
         "Alice",
         45,
         1.752812354160852E9
        ],
        [
         51,
         "David",
         32,
         1.752812355466904E9
        ],
        [
         11,
         "David",
         34,
         1.752812365656075E9
        ],
        [
         26,
         "Alice",
         44,
         1.752812383396349E9
        ],
        [
         5,
         "David",
         42,
         1.7528123998769166E9
        ],
        [
         93,
         "Alice",
         47,
         1.752812406375488E9
        ],
        [
         43,
         "David",
         32,
         1.752812415159838E9
        ],
        [
         12,
         "Carol",
         31,
         1.752812416731964E9
        ],
        [
         36,
         "Carol",
         47,
         1.752812429229502E9
        ],
        [
         55,
         "Carol",
         33,
         1.752812445752993E9
        ],
        [
         28,
         "Alice",
         50,
         1.752812452287496E9
        ],
        [
         36,
         "Carol",
         33,
         1.752812463643926E9
        ],
        [
         62,
         "David",
         39,
         1.752812470047601E9
        ],
        [
         89,
         "David",
         47,
         1.75281236308046E9
        ],
        [
         36,
         "Bob",
         43,
         1.7528123644146245E9
        ],
        [
         48,
         "Bob",
         33,
         1.7528123795638878E9
        ],
        [
         57,
         "Bob",
         49,
         1.7528123859492505E9
        ],
        [
         12,
         "Bob",
         44,
         1.7528123871949232E9
        ],
        [
         90,
         "Bob",
         45,
         1.7528124038549063E9
        ],
        [
         56,
         "Bob",
         37,
         1.7528124113654304E9
        ],
        [
         41,
         "Bob",
         31,
         1.7528124206537695E9
        ],
        [
         98,
         "Bob",
         49,
         1.752812368176509E9
        ],
        [
         91,
         "Bob",
         40,
         1.752812370721767E9
        ],
        [
         4,
         "Bob",
         41,
         1.7528124278911157E9
        ],
        [
         36,
         "Bob",
         47,
         1.75281241262228E9
        ]
       ],
       "datasetInfos": [],
       "dbfsResultPath": null,
       "isJsonSchema": true,
       "metadata": {
        "isDbfsCommandResult": false
       },
       "overflow": false,
       "plotOptions": {
        "customPlotOptions": {},
        "displayType": "table",
        "pivotAggregation": null,
        "pivotColumns": null,
        "xColumns": null,
        "yColumns": null
       },
       "removedWidgets": [],
       "schema": [
        {
         "metadata": "{}",
         "name": "id",
         "type": "\"integer\""
        },
        {
         "metadata": "{}",
         "name": "name",
         "type": "\"string\""
        },
        {
         "metadata": "{}",
         "name": "age",
         "type": "\"integer\""
        },
        {
         "metadata": "{}",
         "name": "timestamp",
         "type": "\"double\""
        }
       ],
       "type": "table"
      }
     },
     "output_type": "display_data"
    }
   ],
   "source": [
    "# Read streaming data from the directory of JSON files\n",
    "streaming_df = (spark.readStream\n",
    "                .format(\"json\")\n",
    "                .schema(\"id INT, name STRING, age INT, timestamp DOUBLE\")\n",
    "                .load(\"abfss://raw@adlsfabric2025ext.dfs.core.windows.net/json/data\"))\n",
    "\n",
    "# Process the streaming DataFrame (e.g., filter by age)\n",
    "# processed_df = streaming_df.filter(\"age > 30\")\n",
    "\n",
    "# Display the processed streaming DataFrame\n"
   ]
  },
  {
   "cell_type": "code",
   "execution_count": 0,
   "metadata": {
    "application/vnd.databricks.v1+cell": {
     "cellMetadata": {
      "byteLimit": 2048000,
      "rowLimit": 10000
     },
     "inputWidgets": {},
     "nuid": "bf4a0ecd-91c8-49ec-9789-49438fceff15",
     "showTitle": false,
     "tableResultSettingsMap": {},
     "title": ""
    }
   },
   "outputs": [
    {
     "output_type": "display_data",
     "data": {
      "text/html": [
       "<style scoped>\n",
       "  .table-result-container {\n",
       "    max-height: 300px;\n",
       "    overflow: auto;\n",
       "  }\n",
       "  table, th, td {\n",
       "    border: 1px solid black;\n",
       "    border-collapse: collapse;\n",
       "  }\n",
       "  th, td {\n",
       "    padding: 5px;\n",
       "  }\n",
       "  th {\n",
       "    text-align: left;\n",
       "  }\n",
       "</style><div class='table-result-container'><table class='table-result'><thead style='background-color: white'><tr><th>id</th><th>name</th><th>age</th><th>timestamp</th></tr></thead><tbody><tr><td>94</td><td>Carol</td><td>35</td><td>1.7528123286511316E9</td></tr><tr><td>79</td><td>Alice</td><td>45</td><td>1.7528123424334478E9</td></tr><tr><td>24</td><td>Carol</td><td>44</td><td>1.7528123455000832E9</td></tr><tr><td>52</td><td>Alice</td><td>31</td><td>1.7528123528513591E9</td></tr><tr><td>32</td><td>Carol</td><td>32</td><td>1.7528123579687028E9</td></tr><tr><td>57</td><td>David</td><td>45</td><td>1.7528123593403103E9</td></tr><tr><td>98</td><td>Carol</td><td>46</td><td>1.7528123668909612E9</td></tr><tr><td>58</td><td>Alice</td><td>44</td><td>1.7528123770978403E9</td></tr><tr><td>85</td><td>Alice</td><td>41</td><td>1.7528123846556556E9</td></tr><tr><td>29</td><td>Alice</td><td>35</td><td>1.7528123884348967E9</td></tr><tr><td>97</td><td>Alice</td><td>49</td><td>1.7528123896819673E9</td></tr><tr><td>66</td><td>David</td><td>50</td><td>1.7528123909646554E9</td></tr><tr><td>58</td><td>Alice</td><td>33</td><td>1.7528123960624712E9</td></tr><tr><td>76</td><td>Alice</td><td>48</td><td>1.7528123986056097E9</td></tr><tr><td>11</td><td>David</td><td>32</td><td>1.7528124012651703E9</td></tr><tr><td>46</td><td>Alice</td><td>35</td><td>1.7528124024950364E9</td></tr><tr><td>39</td><td>David</td><td>45</td><td>1.7528124051239464E9</td></tr><tr><td>30</td><td>David</td><td>42</td><td>1.7528124088825095E9</td></tr><tr><td>37</td><td>Carol</td><td>33</td><td>1.7528124180863068E9</td></tr><tr><td>26</td><td>David</td><td>32</td><td>1.7528124194194748E9</td></tr><tr><td>36</td><td>Alice</td><td>43</td><td>1.7528124232344842E9</td></tr><tr><td>13</td><td>Alice</td><td>50</td><td>1.7528124246140847E9</td></tr><tr><td>63</td><td>Carol</td><td>46</td><td>1.7528124266500576E9</td></tr><tr><td>66</td><td>David</td><td>40</td><td>1.7528124304832764E9</td></tr><tr><td>92</td><td>David</td><td>34</td><td>1.7528124329598968E9</td></tr><tr><td>88</td><td>Alice</td><td>31</td><td>1.7528124342655272E9</td></tr><tr><td>39</td><td>Alice</td><td>49</td><td>1.7528124355532582E9</td></tr><tr><td>44</td><td>David</td><td>34</td><td>1.7528124445193784E9</td></tr><tr><td>18</td><td>Alice</td><td>47</td><td>1.7528124472395864E9</td></tr><tr><td>34</td><td>Carol</td><td>39</td><td>1.7528124497928035E9</td></tr><tr><td>96</td><td>Carol</td><td>32</td><td>1.7528124510492952E9</td></tr><tr><td>57</td><td>David</td><td>50</td><td>1.7528124535107605E9</td></tr><tr><td>44</td><td>Alice</td><td>33</td><td>1.7528124547516394E9</td></tr><tr><td>11</td><td>Alice</td><td>42</td><td>1.7528124560450063E9</td></tr><tr><td>14</td><td>Alice</td><td>34</td><td>1.7528124573811703E9</td></tr><tr><td>98</td><td>David</td><td>34</td><td>1.7528124598808265E9</td></tr><tr><td>36</td><td>Carol</td><td>31</td><td>1.7528124611565785E9</td></tr><tr><td>85</td><td>Carol</td><td>42</td><td>1.7528124624051383E9</td></tr><tr><td>55</td><td>Alice</td><td>48</td><td>1.7528124649454203E9</td></tr><tr><td>86</td><td>Carol</td><td>45</td><td>1.7528124687488308E9</td></tr><tr><td>28</td><td>David</td><td>36</td><td>1.752812348918512E9</td></tr><tr><td>3</td><td>Carol</td><td>35</td><td>1.7528123502771904E9</td></tr><tr><td>17</td><td>Alice</td><td>45</td><td>1.752812354160852E9</td></tr><tr><td>51</td><td>David</td><td>32</td><td>1.752812355466904E9</td></tr><tr><td>11</td><td>David</td><td>34</td><td>1.752812365656075E9</td></tr><tr><td>26</td><td>Alice</td><td>44</td><td>1.752812383396349E9</td></tr><tr><td>5</td><td>David</td><td>42</td><td>1.7528123998769166E9</td></tr><tr><td>93</td><td>Alice</td><td>47</td><td>1.752812406375488E9</td></tr><tr><td>43</td><td>David</td><td>32</td><td>1.752812415159838E9</td></tr><tr><td>12</td><td>Carol</td><td>31</td><td>1.752812416731964E9</td></tr><tr><td>36</td><td>Carol</td><td>47</td><td>1.752812429229502E9</td></tr><tr><td>55</td><td>Carol</td><td>33</td><td>1.752812445752993E9</td></tr><tr><td>28</td><td>Alice</td><td>50</td><td>1.752812452287496E9</td></tr><tr><td>36</td><td>Carol</td><td>33</td><td>1.752812463643926E9</td></tr><tr><td>62</td><td>David</td><td>39</td><td>1.752812470047601E9</td></tr><tr><td>89</td><td>David</td><td>47</td><td>1.75281236308046E9</td></tr><tr><td>36</td><td>Bob</td><td>43</td><td>1.7528123644146245E9</td></tr><tr><td>48</td><td>Bob</td><td>33</td><td>1.7528123795638878E9</td></tr><tr><td>57</td><td>Bob</td><td>49</td><td>1.7528123859492505E9</td></tr><tr><td>12</td><td>Bob</td><td>44</td><td>1.7528123871949232E9</td></tr><tr><td>90</td><td>Bob</td><td>45</td><td>1.7528124038549063E9</td></tr><tr><td>56</td><td>Bob</td><td>37</td><td>1.7528124113654304E9</td></tr><tr><td>41</td><td>Bob</td><td>31</td><td>1.7528124206537695E9</td></tr><tr><td>98</td><td>Bob</td><td>49</td><td>1.752812368176509E9</td></tr><tr><td>91</td><td>Bob</td><td>40</td><td>1.752812370721767E9</td></tr><tr><td>4</td><td>Bob</td><td>41</td><td>1.7528124278911157E9</td></tr><tr><td>36</td><td>Bob</td><td>47</td><td>1.75281241262228E9</td></tr></tbody></table></div>"
      ]
     },
     "metadata": {
      "application/vnd.databricks.v1+output": {
       "addedWidgets": {},
       "aggData": [],
       "aggError": "",
       "aggOverflow": false,
       "aggSchema": [],
       "aggSeriesLimitReached": false,
       "aggType": "",
       "arguments": {},
       "columnCustomDisplayInfos": {},
       "data": [
        [
         94,
         "Carol",
         35,
         1.7528123286511316E9
        ],
        [
         79,
         "Alice",
         45,
         1.7528123424334478E9
        ],
        [
         24,
         "Carol",
         44,
         1.7528123455000832E9
        ],
        [
         52,
         "Alice",
         31,
         1.7528123528513591E9
        ],
        [
         32,
         "Carol",
         32,
         1.7528123579687028E9
        ],
        [
         57,
         "David",
         45,
         1.7528123593403103E9
        ],
        [
         98,
         "Carol",
         46,
         1.7528123668909612E9
        ],
        [
         58,
         "Alice",
         44,
         1.7528123770978403E9
        ],
        [
         85,
         "Alice",
         41,
         1.7528123846556556E9
        ],
        [
         29,
         "Alice",
         35,
         1.7528123884348967E9
        ],
        [
         97,
         "Alice",
         49,
         1.7528123896819673E9
        ],
        [
         66,
         "David",
         50,
         1.7528123909646554E9
        ],
        [
         58,
         "Alice",
         33,
         1.7528123960624712E9
        ],
        [
         76,
         "Alice",
         48,
         1.7528123986056097E9
        ],
        [
         11,
         "David",
         32,
         1.7528124012651703E9
        ],
        [
         46,
         "Alice",
         35,
         1.7528124024950364E9
        ],
        [
         39,
         "David",
         45,
         1.7528124051239464E9
        ],
        [
         30,
         "David",
         42,
         1.7528124088825095E9
        ],
        [
         37,
         "Carol",
         33,
         1.7528124180863068E9
        ],
        [
         26,
         "David",
         32,
         1.7528124194194748E9
        ],
        [
         36,
         "Alice",
         43,
         1.7528124232344842E9
        ],
        [
         13,
         "Alice",
         50,
         1.7528124246140847E9
        ],
        [
         63,
         "Carol",
         46,
         1.7528124266500576E9
        ],
        [
         66,
         "David",
         40,
         1.7528124304832764E9
        ],
        [
         92,
         "David",
         34,
         1.7528124329598968E9
        ],
        [
         88,
         "Alice",
         31,
         1.7528124342655272E9
        ],
        [
         39,
         "Alice",
         49,
         1.7528124355532582E9
        ],
        [
         44,
         "David",
         34,
         1.7528124445193784E9
        ],
        [
         18,
         "Alice",
         47,
         1.7528124472395864E9
        ],
        [
         34,
         "Carol",
         39,
         1.7528124497928035E9
        ],
        [
         96,
         "Carol",
         32,
         1.7528124510492952E9
        ],
        [
         57,
         "David",
         50,
         1.7528124535107605E9
        ],
        [
         44,
         "Alice",
         33,
         1.7528124547516394E9
        ],
        [
         11,
         "Alice",
         42,
         1.7528124560450063E9
        ],
        [
         14,
         "Alice",
         34,
         1.7528124573811703E9
        ],
        [
         98,
         "David",
         34,
         1.7528124598808265E9
        ],
        [
         36,
         "Carol",
         31,
         1.7528124611565785E9
        ],
        [
         85,
         "Carol",
         42,
         1.7528124624051383E9
        ],
        [
         55,
         "Alice",
         48,
         1.7528124649454203E9
        ],
        [
         86,
         "Carol",
         45,
         1.7528124687488308E9
        ],
        [
         28,
         "David",
         36,
         1.752812348918512E9
        ],
        [
         3,
         "Carol",
         35,
         1.7528123502771904E9
        ],
        [
         17,
         "Alice",
         45,
         1.752812354160852E9
        ],
        [
         51,
         "David",
         32,
         1.752812355466904E9
        ],
        [
         11,
         "David",
         34,
         1.752812365656075E9
        ],
        [
         26,
         "Alice",
         44,
         1.752812383396349E9
        ],
        [
         5,
         "David",
         42,
         1.7528123998769166E9
        ],
        [
         93,
         "Alice",
         47,
         1.752812406375488E9
        ],
        [
         43,
         "David",
         32,
         1.752812415159838E9
        ],
        [
         12,
         "Carol",
         31,
         1.752812416731964E9
        ],
        [
         36,
         "Carol",
         47,
         1.752812429229502E9
        ],
        [
         55,
         "Carol",
         33,
         1.752812445752993E9
        ],
        [
         28,
         "Alice",
         50,
         1.752812452287496E9
        ],
        [
         36,
         "Carol",
         33,
         1.752812463643926E9
        ],
        [
         62,
         "David",
         39,
         1.752812470047601E9
        ],
        [
         89,
         "David",
         47,
         1.75281236308046E9
        ],
        [
         36,
         "Bob",
         43,
         1.7528123644146245E9
        ],
        [
         48,
         "Bob",
         33,
         1.7528123795638878E9
        ],
        [
         57,
         "Bob",
         49,
         1.7528123859492505E9
        ],
        [
         12,
         "Bob",
         44,
         1.7528123871949232E9
        ],
        [
         90,
         "Bob",
         45,
         1.7528124038549063E9
        ],
        [
         56,
         "Bob",
         37,
         1.7528124113654304E9
        ],
        [
         41,
         "Bob",
         31,
         1.7528124206537695E9
        ],
        [
         98,
         "Bob",
         49,
         1.752812368176509E9
        ],
        [
         91,
         "Bob",
         40,
         1.752812370721767E9
        ],
        [
         4,
         "Bob",
         41,
         1.7528124278911157E9
        ],
        [
         36,
         "Bob",
         47,
         1.75281241262228E9
        ]
       ],
       "datasetInfos": [],
       "dbfsResultPath": null,
       "isJsonSchema": true,
       "metadata": {
        "isDbfsCommandResult": false
       },
       "overflow": false,
       "plotOptions": {
        "customPlotOptions": {},
        "displayType": "table",
        "pivotAggregation": null,
        "pivotColumns": null,
        "xColumns": null,
        "yColumns": null
       },
       "removedWidgets": [],
       "schema": [
        {
         "metadata": "{}",
         "name": "id",
         "type": "\"integer\""
        },
        {
         "metadata": "{}",
         "name": "name",
         "type": "\"string\""
        },
        {
         "metadata": "{}",
         "name": "age",
         "type": "\"integer\""
        },
        {
         "metadata": "{}",
         "name": "timestamp",
         "type": "\"double\""
        }
       ],
       "type": "table"
      }
     },
     "output_type": "display_data"
    }
   ],
   "source": [
    "display(processed_df)"
   ]
  },
  {
   "cell_type": "code",
   "execution_count": 0,
   "metadata": {
    "application/vnd.databricks.v1+cell": {
     "cellMetadata": {
      "byteLimit": 2048000,
      "rowLimit": 10000
     },
     "inputWidgets": {},
     "nuid": "7f4ce61c-f87f-49e4-9f3c-ac0eb3462cfe",
     "showTitle": true,
     "tableResultSettingsMap": {},
     "title": "Reading data using autoloader"
    }
   },
   "outputs": [
    {
     "output_type": "display_data",
     "data": {
      "text/html": [
       "<style scoped>\n",
       "  .table-result-container {\n",
       "    max-height: 300px;\n",
       "    overflow: auto;\n",
       "  }\n",
       "  table, th, td {\n",
       "    border: 1px solid black;\n",
       "    border-collapse: collapse;\n",
       "  }\n",
       "  th, td {\n",
       "    padding: 5px;\n",
       "  }\n",
       "  th {\n",
       "    text-align: left;\n",
       "  }\n",
       "</style><div class='table-result-container'><table class='table-result'><thead style='background-color: white'><tr><th>age</th><th>id</th><th>name</th><th>timestamp</th><th>_rescued_data</th></tr></thead><tbody><tr><td>34</td><td>100</td><td>Alice</td><td>1.7528193991343398E9</td><td>null</td></tr><tr><td>39</td><td>22</td><td>Alice</td><td>1.7528188642111127E9</td><td>null</td></tr><tr><td>44</td><td>23</td><td>David</td><td>1.7528188684775445E9</td><td>null</td></tr><tr><td>48</td><td>52</td><td>Carol</td><td>1.7528188706378243E9</td><td>null</td></tr><tr><td>31</td><td>81</td><td>Carol</td><td>1.7528188738586648E9</td><td>null</td></tr><tr><td>38</td><td>88</td><td>Carol</td><td>1.7528188782288566E9</td><td>null</td></tr><tr><td>44</td><td>46</td><td>Carol</td><td>1.7528188803727129E9</td><td>null</td></tr><tr><td>44</td><td>92</td><td>Carol</td><td>1.7528188814477112E9</td><td>null</td></tr><tr><td>34</td><td>68</td><td>Carol</td><td>1.7528188911872966E9</td><td>null</td></tr><tr><td>39</td><td>79</td><td>Alice</td><td>1.7528188976375842E9</td><td>null</td></tr><tr><td>38</td><td>73</td><td>Carol</td><td>1.7528188987127411E9</td><td>null</td></tr><tr><td>47</td><td>78</td><td>Carol</td><td>1.7528189008456578E9</td><td>null</td></tr><tr><td>34</td><td>96</td><td>Carol</td><td>1.7528189019129553E9</td><td>null</td></tr><tr><td>50</td><td>57</td><td>Carol</td><td>1.7528189029770997E9</td><td>null</td></tr><tr><td>31</td><td>28</td><td>Carol</td><td>1.7528189072709987E9</td><td>null</td></tr><tr><td>35</td><td>49</td><td>Alice</td><td>1.7528189127501442E9</td><td>null</td></tr><tr><td>46</td><td>35</td><td>Carol</td><td>1.7528189149002388E9</td><td>null</td></tr><tr><td>45</td><td>11</td><td>Carol</td><td>1.7528189159780567E9</td><td>null</td></tr><tr><td>41</td><td>27</td><td>Carol</td><td>1.7528189170422978E9</td><td>null</td></tr><tr><td>36</td><td>18</td><td>David</td><td>1.7528189213407502E9</td><td>null</td></tr><tr><td>35</td><td>48</td><td>David</td><td>1.7528189259622557E9</td><td>null</td></tr><tr><td>39</td><td>64</td><td>David</td><td>1.7528189270286257E9</td><td>null</td></tr><tr><td>50</td><td>90</td><td>David</td><td>1.7528189323894014E9</td><td>null</td></tr><tr><td>33</td><td>69</td><td>Alice</td><td>1.7528189356086614E9</td><td>null</td></tr><tr><td>35</td><td>75</td><td>David</td><td>1.7528189453173604E9</td><td>null</td></tr><tr><td>40</td><td>63</td><td>David</td><td>1.7528189539235966E9</td><td>null</td></tr><tr><td>34</td><td>93</td><td>David</td><td>1.7528189560571442E9</td><td>null</td></tr><tr><td>49</td><td>64</td><td>Alice</td><td>1.7528189603927696E9</td><td>null</td></tr><tr><td>35</td><td>17</td><td>David</td><td>1.7528189614609337E9</td><td>null</td></tr><tr><td>41</td><td>92</td><td>Alice</td><td>1.7528189658362322E9</td><td>null</td></tr><tr><td>33</td><td>11</td><td>Carol</td><td>1.7528189679889114E9</td><td>null</td></tr><tr><td>32</td><td>53</td><td>Carol</td><td>1.7528192933215797E9</td><td>null</td></tr><tr><td>43</td><td>88</td><td>Alice</td><td>1.7528192970692744E9</td><td>null</td></tr><tr><td>41</td><td>81</td><td>Carol</td><td>1.7528192981439028E9</td><td>null</td></tr><tr><td>38</td><td>56</td><td>David</td><td>1.7528193035148344E9</td><td>null</td></tr><tr><td>41</td><td>77</td><td>David</td><td>1.7528193056889033E9</td><td>null</td></tr><tr><td>37</td><td>59</td><td>Alice</td><td>1.7528193089115882E9</td><td>null</td></tr><tr><td>45</td><td>47</td><td>Alice</td><td>1.7528193121088266E9</td><td>null</td></tr><tr><td>33</td><td>57</td><td>David</td><td>1.7528193142544322E9</td><td>null</td></tr><tr><td>44</td><td>84</td><td>Carol</td><td>1.7528193153198893E9</td><td>null</td></tr><tr><td>33</td><td>37</td><td>Carol</td><td>1.7528193163826015E9</td><td>null</td></tr><tr><td>46</td><td>92</td><td>Alice</td><td>1.7528193185066354E9</td><td>null</td></tr><tr><td>41</td><td>48</td><td>Alice</td><td>1.7528193206303754E9</td><td>null</td></tr><tr><td>32</td><td>85</td><td>David</td><td>1.7528193249029837E9</td><td>null</td></tr><tr><td>48</td><td>52</td><td>Carol</td><td>1.7528193259766018E9</td><td>null</td></tr><tr><td>31</td><td>89</td><td>Alice</td><td>1.7528193270454152E9</td><td>null</td></tr><tr><td>42</td><td>91</td><td>Carol</td><td>1.7528193292043498E9</td><td>null</td></tr><tr><td>31</td><td>14</td><td>Alice</td><td>1.7528193302672348E9</td><td>null</td></tr><tr><td>31</td><td>22</td><td>David</td><td>1.7528193313316388E9</td><td>null</td></tr><tr><td>43</td><td>57</td><td>David</td><td>1.7528193335285823E9</td><td>null</td></tr><tr><td>31</td><td>67</td><td>Alice</td><td>1.7528193399314895E9</td><td>null</td></tr><tr><td>48</td><td>17</td><td>David</td><td>1.7528193452979054E9</td><td>null</td></tr><tr><td>31</td><td>41</td><td>David</td><td>1.7528193474277947E9</td><td>null</td></tr><tr><td>40</td><td>78</td><td>David</td><td>1.7528193495469925E9</td><td>null</td></tr><tr><td>49</td><td>19</td><td>Alice</td><td>1.7528193516772926E9</td><td>null</td></tr><tr><td>41</td><td>76</td><td>Alice</td><td>1.7528193616346972E9</td><td>null</td></tr><tr><td>32</td><td>42</td><td>Carol</td><td>1.7528193638069637E9</td><td>null</td></tr><tr><td>33</td><td>31</td><td>David</td><td>1.7528193649184895E9</td><td>null</td></tr><tr><td>34</td><td>78</td><td>David</td><td>1.7528193660132017E9</td><td>null</td></tr><tr><td>42</td><td>52</td><td>Carol</td><td>1.7528193777385416E9</td><td>null</td></tr><tr><td>44</td><td>97</td><td>David</td><td>1.7528193852424018E9</td><td>null</td></tr><tr><td>38</td><td>75</td><td>Carol</td><td>1.7528193916524713E9</td><td>null</td></tr><tr><td>35</td><td>32</td><td>David</td><td>1.7528193937712486E9</td><td>null</td></tr><tr><td>35</td><td>93</td><td>Alice</td><td>1.752818869575211E9</td><td>null</td></tr><tr><td>41</td><td>9</td><td>David</td><td>1.7528188770932767E9</td><td>null</td></tr><tr><td>35</td><td>12</td><td>Alice</td><td>1.752818883703379E9</td><td>null</td></tr><tr><td>34</td><td>43</td><td>Carol</td><td>1.752818884775052E9</td><td>null</td></tr><tr><td>48</td><td>28</td><td>Alice</td><td>1.752818893358582E9</td><td>null</td></tr><tr><td>50</td><td>1</td><td>David</td><td>1.7528189040427394E9</td><td>null</td></tr><tr><td>32</td><td>4</td><td>Alice</td><td>1.7528189051201935E9</td><td>null</td></tr><tr><td>35</td><td>93</td><td>David</td><td>1.752818909428839E9</td><td>null</td></tr><tr><td>34</td><td>98</td><td>David</td><td>1.752818918134665E9</td><td>null</td></tr><tr><td>46</td><td>1</td><td>Alice</td><td>1.7528189291793487E9</td><td>null</td></tr><tr><td>42</td><td>41</td><td>Alice</td><td>1.752818937749496E9</td><td>null</td></tr><tr><td>33</td><td>43</td><td>David</td><td>1.752818939881665E9</td><td>null</td></tr><tr><td>41</td><td>1</td><td>Alice</td><td>1.7528189409718163E9</td><td>null</td></tr><tr><td>48</td><td>28</td><td>Carol</td><td>1.752818950687608E9</td><td>null</td></tr><tr><td>48</td><td>40</td><td>Alice</td><td>1.752819294951524E9</td><td>null</td></tr><tr><td>37</td><td>81</td><td>David</td><td>1.752819301363771E9</td><td>null</td></tr><tr><td>41</td><td>78</td><td>Alice</td><td>1.752819302431175E9</td><td>null</td></tr><tr><td>44</td><td>100</td><td>Bob</td><td>1.7528193238322175E9</td><td>null</td></tr><tr><td>40</td><td>15</td><td>Carol</td><td>1.752819334593308E9</td><td>null</td></tr><tr><td>47</td><td>29</td><td>Alice</td><td>1.752819336753014E9</td><td>null</td></tr><tr><td>45</td><td>47</td><td>Carol</td><td>1.752819337814344E9</td><td>null</td></tr><tr><td>32</td><td>2</td><td>David</td><td>1.7528193409921925E9</td><td>null</td></tr><tr><td>34</td><td>16</td><td>Alice</td><td>1.752819352742476E9</td><td>null</td></tr><tr><td>39</td><td>41</td><td>Carol</td><td>1.752819353802401E9</td><td>null</td></tr><tr><td>48</td><td>100</td><td>Bob</td><td>1.7528193670749888E9</td><td>null</td></tr><tr><td>41</td><td>13</td><td>Carol</td><td>1.752819380987848E9</td><td>null</td></tr><tr><td>44</td><td>4</td><td>Carol</td><td>1.7528193820434465E9</td><td>null</td></tr><tr><td>44</td><td>82</td><td>David</td><td>1.752819390586022E9</td><td>null</td></tr><tr><td>47</td><td>63</td><td>Alice</td><td>1.752819400193638E9</td><td>null</td></tr><tr><td>45</td><td>57</td><td>Bob</td><td>1.7528188727814443E9</td><td>null</td></tr><tr><td>41</td><td>59</td><td>Bob</td><td>1.7528189138178718E9</td><td>null</td></tr><tr><td>48</td><td>93</td><td>Bob</td><td>1.7528189281132379E9</td><td>null</td></tr><tr><td>38</td><td>29</td><td>Bob</td><td>1.7528189582324426E9</td><td>null</td></tr><tr><td>40</td><td>41</td><td>Bob</td><td>1.7528189625905886E9</td><td>null</td></tr><tr><td>46</td><td>97</td><td>Alice</td><td>1.75281896366254E9</td><td>null</td></tr><tr><td>39</td><td>51</td><td>David</td><td>1.75281933239418E9</td><td>null</td></tr><tr><td>50</td><td>11</td><td>Bob</td><td>1.7528193420598893E9</td><td>null</td></tr><tr><td>31</td><td>89</td><td>Bob</td><td>1.7528193431184466E9</td><td>null</td></tr><tr><td>35</td><td>51</td><td>Bob</td><td>1.7528193463711216E9</td><td>null</td></tr><tr><td>43</td><td>84</td><td>Carol</td><td>1.75281934848762E9</td><td>null</td></tr><tr><td>35</td><td>52</td><td>Bob</td><td>1.7528193562373397E9</td><td>null</td></tr><tr><td>37</td><td>40</td><td>Alice</td><td>1.75281936271855E9</td><td>null</td></tr><tr><td>31</td><td>42</td><td>Bob</td><td>1.7528193702878485E9</td><td>null</td></tr><tr><td>35</td><td>32</td><td>Bob</td><td>1.7528193745274394E9</td><td>null</td></tr><tr><td>32</td><td>46</td><td>Bob</td><td>1.7528193766666827E9</td><td>null</td></tr><tr><td>35</td><td>39</td><td>Bob</td><td>1.7528193798840897E9</td><td>null</td></tr><tr><td>37</td><td>29</td><td>Bob</td><td>1.7528193927098205E9</td><td>null</td></tr><tr><td>32</td><td>92</td><td>Bob</td><td>1.752818860065997E9</td><td>null</td></tr><tr><td>48</td><td>32</td><td>Bob</td><td>1.752818879302188E9</td><td>null</td></tr><tr><td>46</td><td>95</td><td>Bob</td><td>1.752818882624832E9</td><td>null</td></tr><tr><td>39</td><td>18</td><td>Bob</td><td>1.752818886909333E9</td><td>null</td></tr><tr><td>40</td><td>92</td><td>Bob</td><td>1.752818911637897E9</td><td>null</td></tr><tr><td>36</td><td>81</td><td>Bob</td><td>1.752818920272865E9</td><td>null</td></tr><tr><td>32</td><td>41</td><td>Bob</td><td>1.752818944238578E9</td><td>null</td></tr><tr><td>46</td><td>87</td><td>Bob</td><td>1.752818966923419E9</td><td>null</td></tr><tr><td>42</td><td>48</td><td>Bob</td><td>1.752819359467022E9</td><td>null</td></tr><tr><td>41</td><td>12</td><td>Bob</td><td>1.752819388443329E9</td><td>null</td></tr><tr><td>38</td><td>21</td><td>Bob</td><td>1.752819397018562E9</td><td>null</td></tr><tr><td>37</td><td>1</td><td>Bob</td><td>1.752818894416884E9</td><td>null</td></tr><tr><td>48</td><td>67</td><td>Bob</td><td>1.75281932277206E9</td><td>null</td></tr></tbody></table></div>"
      ]
     },
     "metadata": {
      "application/vnd.databricks.v1+output": {
       "addedWidgets": {},
       "aggData": [],
       "aggError": "",
       "aggOverflow": false,
       "aggSchema": [],
       "aggSeriesLimitReached": false,
       "aggType": "",
       "arguments": {},
       "columnCustomDisplayInfos": {},
       "data": [
        [
         "34",
         "100",
         "Alice",
         "1.7528193991343398E9",
         null
        ],
        [
         "39",
         "22",
         "Alice",
         "1.7528188642111127E9",
         null
        ],
        [
         "44",
         "23",
         "David",
         "1.7528188684775445E9",
         null
        ],
        [
         "48",
         "52",
         "Carol",
         "1.7528188706378243E9",
         null
        ],
        [
         "31",
         "81",
         "Carol",
         "1.7528188738586648E9",
         null
        ],
        [
         "38",
         "88",
         "Carol",
         "1.7528188782288566E9",
         null
        ],
        [
         "44",
         "46",
         "Carol",
         "1.7528188803727129E9",
         null
        ],
        [
         "44",
         "92",
         "Carol",
         "1.7528188814477112E9",
         null
        ],
        [
         "34",
         "68",
         "Carol",
         "1.7528188911872966E9",
         null
        ],
        [
         "39",
         "79",
         "Alice",
         "1.7528188976375842E9",
         null
        ],
        [
         "38",
         "73",
         "Carol",
         "1.7528188987127411E9",
         null
        ],
        [
         "47",
         "78",
         "Carol",
         "1.7528189008456578E9",
         null
        ],
        [
         "34",
         "96",
         "Carol",
         "1.7528189019129553E9",
         null
        ],
        [
         "50",
         "57",
         "Carol",
         "1.7528189029770997E9",
         null
        ],
        [
         "31",
         "28",
         "Carol",
         "1.7528189072709987E9",
         null
        ],
        [
         "35",
         "49",
         "Alice",
         "1.7528189127501442E9",
         null
        ],
        [
         "46",
         "35",
         "Carol",
         "1.7528189149002388E9",
         null
        ],
        [
         "45",
         "11",
         "Carol",
         "1.7528189159780567E9",
         null
        ],
        [
         "41",
         "27",
         "Carol",
         "1.7528189170422978E9",
         null
        ],
        [
         "36",
         "18",
         "David",
         "1.7528189213407502E9",
         null
        ],
        [
         "35",
         "48",
         "David",
         "1.7528189259622557E9",
         null
        ],
        [
         "39",
         "64",
         "David",
         "1.7528189270286257E9",
         null
        ],
        [
         "50",
         "90",
         "David",
         "1.7528189323894014E9",
         null
        ],
        [
         "33",
         "69",
         "Alice",
         "1.7528189356086614E9",
         null
        ],
        [
         "35",
         "75",
         "David",
         "1.7528189453173604E9",
         null
        ],
        [
         "40",
         "63",
         "David",
         "1.7528189539235966E9",
         null
        ],
        [
         "34",
         "93",
         "David",
         "1.7528189560571442E9",
         null
        ],
        [
         "49",
         "64",
         "Alice",
         "1.7528189603927696E9",
         null
        ],
        [
         "35",
         "17",
         "David",
         "1.7528189614609337E9",
         null
        ],
        [
         "41",
         "92",
         "Alice",
         "1.7528189658362322E9",
         null
        ],
        [
         "33",
         "11",
         "Carol",
         "1.7528189679889114E9",
         null
        ],
        [
         "32",
         "53",
         "Carol",
         "1.7528192933215797E9",
         null
        ],
        [
         "43",
         "88",
         "Alice",
         "1.7528192970692744E9",
         null
        ],
        [
         "41",
         "81",
         "Carol",
         "1.7528192981439028E9",
         null
        ],
        [
         "38",
         "56",
         "David",
         "1.7528193035148344E9",
         null
        ],
        [
         "41",
         "77",
         "David",
         "1.7528193056889033E9",
         null
        ],
        [
         "37",
         "59",
         "Alice",
         "1.7528193089115882E9",
         null
        ],
        [
         "45",
         "47",
         "Alice",
         "1.7528193121088266E9",
         null
        ],
        [
         "33",
         "57",
         "David",
         "1.7528193142544322E9",
         null
        ],
        [
         "44",
         "84",
         "Carol",
         "1.7528193153198893E9",
         null
        ],
        [
         "33",
         "37",
         "Carol",
         "1.7528193163826015E9",
         null
        ],
        [
         "46",
         "92",
         "Alice",
         "1.7528193185066354E9",
         null
        ],
        [
         "41",
         "48",
         "Alice",
         "1.7528193206303754E9",
         null
        ],
        [
         "32",
         "85",
         "David",
         "1.7528193249029837E9",
         null
        ],
        [
         "48",
         "52",
         "Carol",
         "1.7528193259766018E9",
         null
        ],
        [
         "31",
         "89",
         "Alice",
         "1.7528193270454152E9",
         null
        ],
        [
         "42",
         "91",
         "Carol",
         "1.7528193292043498E9",
         null
        ],
        [
         "31",
         "14",
         "Alice",
         "1.7528193302672348E9",
         null
        ],
        [
         "31",
         "22",
         "David",
         "1.7528193313316388E9",
         null
        ],
        [
         "43",
         "57",
         "David",
         "1.7528193335285823E9",
         null
        ],
        [
         "31",
         "67",
         "Alice",
         "1.7528193399314895E9",
         null
        ],
        [
         "48",
         "17",
         "David",
         "1.7528193452979054E9",
         null
        ],
        [
         "31",
         "41",
         "David",
         "1.7528193474277947E9",
         null
        ],
        [
         "40",
         "78",
         "David",
         "1.7528193495469925E9",
         null
        ],
        [
         "49",
         "19",
         "Alice",
         "1.7528193516772926E9",
         null
        ],
        [
         "41",
         "76",
         "Alice",
         "1.7528193616346972E9",
         null
        ],
        [
         "32",
         "42",
         "Carol",
         "1.7528193638069637E9",
         null
        ],
        [
         "33",
         "31",
         "David",
         "1.7528193649184895E9",
         null
        ],
        [
         "34",
         "78",
         "David",
         "1.7528193660132017E9",
         null
        ],
        [
         "42",
         "52",
         "Carol",
         "1.7528193777385416E9",
         null
        ],
        [
         "44",
         "97",
         "David",
         "1.7528193852424018E9",
         null
        ],
        [
         "38",
         "75",
         "Carol",
         "1.7528193916524713E9",
         null
        ],
        [
         "35",
         "32",
         "David",
         "1.7528193937712486E9",
         null
        ],
        [
         "35",
         "93",
         "Alice",
         "1.752818869575211E9",
         null
        ],
        [
         "41",
         "9",
         "David",
         "1.7528188770932767E9",
         null
        ],
        [
         "35",
         "12",
         "Alice",
         "1.752818883703379E9",
         null
        ],
        [
         "34",
         "43",
         "Carol",
         "1.752818884775052E9",
         null
        ],
        [
         "48",
         "28",
         "Alice",
         "1.752818893358582E9",
         null
        ],
        [
         "50",
         "1",
         "David",
         "1.7528189040427394E9",
         null
        ],
        [
         "32",
         "4",
         "Alice",
         "1.7528189051201935E9",
         null
        ],
        [
         "35",
         "93",
         "David",
         "1.752818909428839E9",
         null
        ],
        [
         "34",
         "98",
         "David",
         "1.752818918134665E9",
         null
        ],
        [
         "46",
         "1",
         "Alice",
         "1.7528189291793487E9",
         null
        ],
        [
         "42",
         "41",
         "Alice",
         "1.752818937749496E9",
         null
        ],
        [
         "33",
         "43",
         "David",
         "1.752818939881665E9",
         null
        ],
        [
         "41",
         "1",
         "Alice",
         "1.7528189409718163E9",
         null
        ],
        [
         "48",
         "28",
         "Carol",
         "1.752818950687608E9",
         null
        ],
        [
         "48",
         "40",
         "Alice",
         "1.752819294951524E9",
         null
        ],
        [
         "37",
         "81",
         "David",
         "1.752819301363771E9",
         null
        ],
        [
         "41",
         "78",
         "Alice",
         "1.752819302431175E9",
         null
        ],
        [
         "44",
         "100",
         "Bob",
         "1.7528193238322175E9",
         null
        ],
        [
         "40",
         "15",
         "Carol",
         "1.752819334593308E9",
         null
        ],
        [
         "47",
         "29",
         "Alice",
         "1.752819336753014E9",
         null
        ],
        [
         "45",
         "47",
         "Carol",
         "1.752819337814344E9",
         null
        ],
        [
         "32",
         "2",
         "David",
         "1.7528193409921925E9",
         null
        ],
        [
         "34",
         "16",
         "Alice",
         "1.752819352742476E9",
         null
        ],
        [
         "39",
         "41",
         "Carol",
         "1.752819353802401E9",
         null
        ],
        [
         "48",
         "100",
         "Bob",
         "1.7528193670749888E9",
         null
        ],
        [
         "41",
         "13",
         "Carol",
         "1.752819380987848E9",
         null
        ],
        [
         "44",
         "4",
         "Carol",
         "1.7528193820434465E9",
         null
        ],
        [
         "44",
         "82",
         "David",
         "1.752819390586022E9",
         null
        ],
        [
         "47",
         "63",
         "Alice",
         "1.752819400193638E9",
         null
        ],
        [
         "45",
         "57",
         "Bob",
         "1.7528188727814443E9",
         null
        ],
        [
         "41",
         "59",
         "Bob",
         "1.7528189138178718E9",
         null
        ],
        [
         "48",
         "93",
         "Bob",
         "1.7528189281132379E9",
         null
        ],
        [
         "38",
         "29",
         "Bob",
         "1.7528189582324426E9",
         null
        ],
        [
         "40",
         "41",
         "Bob",
         "1.7528189625905886E9",
         null
        ],
        [
         "46",
         "97",
         "Alice",
         "1.75281896366254E9",
         null
        ],
        [
         "39",
         "51",
         "David",
         "1.75281933239418E9",
         null
        ],
        [
         "50",
         "11",
         "Bob",
         "1.7528193420598893E9",
         null
        ],
        [
         "31",
         "89",
         "Bob",
         "1.7528193431184466E9",
         null
        ],
        [
         "35",
         "51",
         "Bob",
         "1.7528193463711216E9",
         null
        ],
        [
         "43",
         "84",
         "Carol",
         "1.75281934848762E9",
         null
        ],
        [
         "35",
         "52",
         "Bob",
         "1.7528193562373397E9",
         null
        ],
        [
         "37",
         "40",
         "Alice",
         "1.75281936271855E9",
         null
        ],
        [
         "31",
         "42",
         "Bob",
         "1.7528193702878485E9",
         null
        ],
        [
         "35",
         "32",
         "Bob",
         "1.7528193745274394E9",
         null
        ],
        [
         "32",
         "46",
         "Bob",
         "1.7528193766666827E9",
         null
        ],
        [
         "35",
         "39",
         "Bob",
         "1.7528193798840897E9",
         null
        ],
        [
         "37",
         "29",
         "Bob",
         "1.7528193927098205E9",
         null
        ],
        [
         "32",
         "92",
         "Bob",
         "1.752818860065997E9",
         null
        ],
        [
         "48",
         "32",
         "Bob",
         "1.752818879302188E9",
         null
        ],
        [
         "46",
         "95",
         "Bob",
         "1.752818882624832E9",
         null
        ],
        [
         "39",
         "18",
         "Bob",
         "1.752818886909333E9",
         null
        ],
        [
         "40",
         "92",
         "Bob",
         "1.752818911637897E9",
         null
        ],
        [
         "36",
         "81",
         "Bob",
         "1.752818920272865E9",
         null
        ],
        [
         "32",
         "41",
         "Bob",
         "1.752818944238578E9",
         null
        ],
        [
         "46",
         "87",
         "Bob",
         "1.752818966923419E9",
         null
        ],
        [
         "42",
         "48",
         "Bob",
         "1.752819359467022E9",
         null
        ],
        [
         "41",
         "12",
         "Bob",
         "1.752819388443329E9",
         null
        ],
        [
         "38",
         "21",
         "Bob",
         "1.752819397018562E9",
         null
        ],
        [
         "37",
         "1",
         "Bob",
         "1.752818894416884E9",
         null
        ],
        [
         "48",
         "67",
         "Bob",
         "1.75281932277206E9",
         null
        ]
       ],
       "datasetInfos": [],
       "dbfsResultPath": null,
       "isJsonSchema": true,
       "metadata": {
        "isDbfsCommandResult": false
       },
       "overflow": false,
       "plotOptions": {
        "customPlotOptions": {},
        "displayType": "table",
        "pivotAggregation": null,
        "pivotColumns": null,
        "xColumns": null,
        "yColumns": null
       },
       "removedWidgets": [],
       "schema": [
        {
         "metadata": "{}",
         "name": "age",
         "type": "\"string\""
        },
        {
         "metadata": "{}",
         "name": "id",
         "type": "\"string\""
        },
        {
         "metadata": "{}",
         "name": "name",
         "type": "\"string\""
        },
        {
         "metadata": "{}",
         "name": "timestamp",
         "type": "\"string\""
        },
        {
         "metadata": "{}",
         "name": "_rescued_data",
         "type": "\"string\""
        }
       ],
       "type": "table"
      }
     },
     "output_type": "display_data"
    }
   ],
   "source": [
    "%python\n",
    "# Read streaming data from the directory of JSON files using Auto Loader\n",
    "streaming_df = (spark.readStream\n",
    "                .format(\"cloudFiles\")\n",
    "                .option(\"cloudFiles.format\", \"json\")\n",
    "                .option(\"cloudFiles.schemaLocation\", \"abfss://raw@adlsfabric2025ext.dfs.core.windows.net/json/schema\")\n",
    "                .load(\"abfss://raw@adlsfabric2025ext.dfs.core.windows.net/json/data\"))\n",
    "\n",
    "# Process the streaming DataFrame (e.g., filter by age)\n",
    "processed_df = streaming_df.filter(\"age > 30\")\n",
    "\n",
    "# Display the processed streaming DataFrame\n",
    "display(processed_df)"
   ]
  },
  {
   "cell_type": "markdown",
   "metadata": {
    "application/vnd.databricks.v1+cell": {
     "cellMetadata": {},
     "inputWidgets": {},
     "nuid": "6cdec69e-8498-4609-9139-ccab192970b4",
     "showTitle": false,
     "tableResultSettingsMap": {},
     "title": ""
    }
   },
   "source": [
    "**read stream**\n",
    "- Manual File Management: You need to manage the file ingestion manually.\n",
    "- Limited Scalability: It may not handle large-scale data ingestion efficiently.\n",
    "\n"
   ]
  },
  {
   "cell_type": "markdown",
   "metadata": {
    "application/vnd.databricks.v1+cell": {
     "cellMetadata": {},
     "inputWidgets": {},
     "nuid": "fe27ed62-aab0-43a4-a773-52b3430ef4bf",
     "showTitle": false,
     "tableResultSettingsMap": {},
     "title": ""
    }
   },
   "source": [
    "**Diffrence:**\n",
    "- \n",
    "- Automatic File Management: Auto Loader automatically detects and processes new files as they arrive.\n",
    "- Scalable and Efficient: Designed to handle large-scale data ingestion efficiently.\n",
    "- Schema Evolution: Supports automatic schema inference and evolution."
   ]
  }
 ],
 "metadata": {
  "application/vnd.databricks.v1+notebook": {
   "computePreferences": null,
   "dashboards": [],
   "environmentMetadata": {
    "base_environment": "",
    "environment_version": "2"
   },
   "inputWidgetPreferences": null,
   "language": "python",
   "notebookMetadata": {
    "pythonIndentUnit": 4
   },
   "notebookName": "Stream data",
   "widgets": {}
  },
  "language_info": {
   "name": "python"
  }
 },
 "nbformat": 4,
 "nbformat_minor": 0
}